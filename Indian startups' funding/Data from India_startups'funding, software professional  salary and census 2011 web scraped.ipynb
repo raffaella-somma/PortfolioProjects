{
 "cells": [
  {
   "cell_type": "markdown",
   "id": "9dd6096f",
   "metadata": {
    "id": "b197f446-530c-41ee-b11f-57900dfa6fae",
    "tags": []
   },
   "source": [
    "### Indian startups' funding\n",
    "\n",
    "I'm working with a datasets containing information on indian startups' funding, including the startup's details, the funding it received, and the investors' information.\n",
    "\n",
    "The are three datasets, including data from 2019, 2020 and 2021:\n",
    "\n",
    "- `startup_funding2019.xlsx`\n",
    "- `startup_funding2020.xlsx`\n",
    "- `startup_funding2021.xlsx`\n",
    "\n",
    "At [this link](https://www.kaggle.com/datasets/omkargowda/indian-startups-funding-data?select=startup_funding2019.xlsx) you can find the source of the original data (Kaggle) as well as more information on its composition *(note: the files in the data folder are slightly different from the originals)*."
   ]
  },
  {
   "cell_type": "markdown",
   "id": "jN8NBZnyngy2",
   "metadata": {
    "id": "jN8NBZnyngy2"
   },
   "source": [
    "1. **fnd dataframe has 2343 rows and 10 columns**"
   ]
  },
  {
   "cell_type": "code",
   "execution_count": 3,
   "id": "95b7ed33-a7c7-4309-bfba-d07958820fb9",
   "metadata": {
    "id": "95b7ed33-a7c7-4309-bfba-d07958820fb9",
    "scrolled": true
   },
   "outputs": [],
   "source": [
    "import pandas as pd\n",
    "import matplotlib.pyplot as plt\n",
    "import seaborn as sns"
   ]
  },
  {
   "cell_type": "code",
   "execution_count": 4,
   "id": "LfKZuW5nkMO5",
   "metadata": {
    "id": "LfKZuW5nkMO5",
    "scrolled": true
   },
   "outputs": [],
   "source": [
    "file_name = \"startup_funding\"\n",
    "\n",
    "fnd = pd.DataFrame()\n",
    "\n",
    "for i in range(2019,2022):\n",
    "  df_tmp = pd.read_excel(file_name+str(i)+\".xlsx\")\n",
    "  df_tmp['Year']=i\n",
    "  fnd = pd.concat([fnd,df_tmp])\n"
   ]
  },
  {
   "cell_type": "code",
   "execution_count": 5,
   "id": "onFY8SgumLvg",
   "metadata": {
    "colab": {
     "base_uri": "https://localhost:8080/"
    },
    "id": "onFY8SgumLvg",
    "outputId": "ea8392a3-3bbe-4bd8-d094-64d2686a4939",
    "scrolled": true
   },
   "outputs": [
    {
     "data": {
      "text/plain": [
       "(2343, 10)"
      ]
     },
     "execution_count": 5,
     "metadata": {},
     "output_type": "execute_result"
    }
   ],
   "source": [
    "fnd.shape"
   ]
  },
  {
   "cell_type": "code",
   "execution_count": 6,
   "id": "839955c1-8c75-4448-9b34-cb51328b2137",
   "metadata": {
    "colab": {
     "base_uri": "https://localhost:8080/"
    },
    "id": "839955c1-8c75-4448-9b34-cb51328b2137",
    "outputId": "8673f677-2548-4e6b-8d27-0f294e2c1564",
    "scrolled": true
   },
   "outputs": [
    {
     "name": "stdout",
     "output_type": "stream",
     "text": [
      "<class 'pandas.core.frame.DataFrame'>\n",
      "Int64Index: 2343 entries, 0 to 1201\n",
      "Data columns (total 10 columns):\n",
      " #   Column         Non-Null Count  Dtype \n",
      "---  ------         --------------  ----- \n",
      " 0   Company/Brand  2343 non-null   object\n",
      " 1   Founded        2102 non-null   object\n",
      " 2   HeadQuarter    2228 non-null   object\n",
      " 3   Sector         2325 non-null   object\n",
      " 4   What it does   2343 non-null   object\n",
      " 5   Founders       2324 non-null   object\n",
      " 6   Investor       2243 non-null   object\n",
      " 7   Amount($)      2211 non-null   object\n",
      " 8   Stage          1220 non-null   object\n",
      " 9   Year           2343 non-null   int64 \n",
      "dtypes: int64(1), object(9)\n",
      "memory usage: 201.4+ KB\n"
     ]
    }
   ],
   "source": [
    "fnd.info()"
   ]
  },
  {
   "cell_type": "markdown",
   "id": "ff8c2669",
   "metadata": {},
   "source": [
    "Columns `Founded`, `Amount($)` and `Year` are being interpreted as strings instead of numbers. "
   ]
  },
  {
   "cell_type": "code",
   "execution_count": 7,
   "id": "B8tDN7FZn4V2",
   "metadata": {
    "colab": {
     "base_uri": "https://localhost:8080/",
     "height": 806
    },
    "id": "B8tDN7FZn4V2",
    "outputId": "67d2da2f-5049-48bc-ff7f-9ad5dd9b9ad0",
    "scrolled": true
   },
   "outputs": [
    {
     "data": {
      "text/html": [
       "<div>\n",
       "<style scoped>\n",
       "    .dataframe tbody tr th:only-of-type {\n",
       "        vertical-align: middle;\n",
       "    }\n",
       "\n",
       "    .dataframe tbody tr th {\n",
       "        vertical-align: top;\n",
       "    }\n",
       "\n",
       "    .dataframe thead th {\n",
       "        text-align: right;\n",
       "    }\n",
       "</style>\n",
       "<table border=\"1\" class=\"dataframe\">\n",
       "  <thead>\n",
       "    <tr style=\"text-align: right;\">\n",
       "      <th></th>\n",
       "      <th>Company/Brand</th>\n",
       "      <th>Founded</th>\n",
       "      <th>HeadQuarter</th>\n",
       "      <th>Sector</th>\n",
       "      <th>What it does</th>\n",
       "      <th>Founders</th>\n",
       "      <th>Investor</th>\n",
       "      <th>Amount($)</th>\n",
       "      <th>Stage</th>\n",
       "      <th>Year</th>\n",
       "    </tr>\n",
       "  </thead>\n",
       "  <tbody>\n",
       "    <tr>\n",
       "      <th>0</th>\n",
       "      <td>Bombay Shaving</td>\n",
       "      <td>NaN</td>\n",
       "      <td>NaN</td>\n",
       "      <td>Ecommerce</td>\n",
       "      <td>Provides a range of male grooming products</td>\n",
       "      <td>Shantanu Deshpande</td>\n",
       "      <td>Sixth Sense Ventures</td>\n",
       "      <td>$6,300,000</td>\n",
       "      <td>NaN</td>\n",
       "      <td>2019</td>\n",
       "    </tr>\n",
       "    <tr>\n",
       "      <th>1</th>\n",
       "      <td>Ruangguru</td>\n",
       "      <td>2014.0</td>\n",
       "      <td>Mumbai</td>\n",
       "      <td>Edtech</td>\n",
       "      <td>A learning platform that provides topic-based ...</td>\n",
       "      <td>Adamas Belva Syah Devara, Iman Usman.</td>\n",
       "      <td>General Atlantic</td>\n",
       "      <td>$150,000,000</td>\n",
       "      <td>Series C</td>\n",
       "      <td>2019</td>\n",
       "    </tr>\n",
       "    <tr>\n",
       "      <th>2</th>\n",
       "      <td>Eduisfun</td>\n",
       "      <td>NaN</td>\n",
       "      <td>Mumbai</td>\n",
       "      <td>Edtech</td>\n",
       "      <td>It aims to make learning fun via games.</td>\n",
       "      <td>Jatin Solanki</td>\n",
       "      <td>Deepak Parekh, Amitabh Bachchan, Piyush Pandey</td>\n",
       "      <td>$28,000,000</td>\n",
       "      <td>Fresh funding</td>\n",
       "      <td>2019</td>\n",
       "    </tr>\n",
       "    <tr>\n",
       "      <th>3</th>\n",
       "      <td>HomeLane</td>\n",
       "      <td>2014.0</td>\n",
       "      <td>Chennai</td>\n",
       "      <td>Interior design</td>\n",
       "      <td>Provides interior designing solutions</td>\n",
       "      <td>Srikanth Iyer, Rama Harinath</td>\n",
       "      <td>Evolvence India Fund (EIF), Pidilite Group, FJ...</td>\n",
       "      <td>$30,000,000</td>\n",
       "      <td>Series D</td>\n",
       "      <td>2019</td>\n",
       "    </tr>\n",
       "    <tr>\n",
       "      <th>4</th>\n",
       "      <td>Nu Genes</td>\n",
       "      <td>2004.0</td>\n",
       "      <td>Telangana</td>\n",
       "      <td>AgriTech</td>\n",
       "      <td>It is a seed company engaged in production, pr...</td>\n",
       "      <td>Narayana Reddy Punyala</td>\n",
       "      <td>Innovation in Food and Agriculture (IFA)</td>\n",
       "      <td>$6,000,000</td>\n",
       "      <td>NaN</td>\n",
       "      <td>2019</td>\n",
       "    </tr>\n",
       "    <tr>\n",
       "      <th>5</th>\n",
       "      <td>FlytBase</td>\n",
       "      <td>NaN</td>\n",
       "      <td>Pune</td>\n",
       "      <td>Technology</td>\n",
       "      <td>A drone automation platform</td>\n",
       "      <td>Nitin Gupta</td>\n",
       "      <td>Undisclosed</td>\n",
       "      <td>Undisclosed</td>\n",
       "      <td>NaN</td>\n",
       "      <td>2019</td>\n",
       "    </tr>\n",
       "    <tr>\n",
       "      <th>6</th>\n",
       "      <td>Finly</td>\n",
       "      <td>NaN</td>\n",
       "      <td>Bangalore</td>\n",
       "      <td>SaaS</td>\n",
       "      <td>It builds software products that makes work si...</td>\n",
       "      <td>Vivek AG, Veekshith C Rai</td>\n",
       "      <td>Social Capital, AngelList India, Gemba Capital...</td>\n",
       "      <td>Undisclosed</td>\n",
       "      <td>NaN</td>\n",
       "      <td>2019</td>\n",
       "    </tr>\n",
       "    <tr>\n",
       "      <th>7</th>\n",
       "      <td>Kratikal</td>\n",
       "      <td>2013.0</td>\n",
       "      <td>Noida</td>\n",
       "      <td>Technology</td>\n",
       "      <td>It is a product-based cybersecurity solutions ...</td>\n",
       "      <td>Pavan Kushwaha, Paratosh Bansal, Dip Jung Thapa</td>\n",
       "      <td>Gilda VC, Art Venture, Rajeev Chitrabhanu.</td>\n",
       "      <td>$1,000,000</td>\n",
       "      <td>Pre series A</td>\n",
       "      <td>2019</td>\n",
       "    </tr>\n",
       "    <tr>\n",
       "      <th>8</th>\n",
       "      <td>Quantiphi</td>\n",
       "      <td>NaN</td>\n",
       "      <td>NaN</td>\n",
       "      <td>AI &amp; Tech</td>\n",
       "      <td>It is an AI and big data services company prov...</td>\n",
       "      <td>Renuka Ramnath</td>\n",
       "      <td>Multiples Alternate Asset Management</td>\n",
       "      <td>$20,000,000</td>\n",
       "      <td>Series A</td>\n",
       "      <td>2019</td>\n",
       "    </tr>\n",
       "    <tr>\n",
       "      <th>9</th>\n",
       "      <td>Lenskart</td>\n",
       "      <td>2010.0</td>\n",
       "      <td>Delhi</td>\n",
       "      <td>E-commerce</td>\n",
       "      <td>It is a eyewear company</td>\n",
       "      <td>Peyush Bansal, Amit Chaudhary, Sumeet Kapahi</td>\n",
       "      <td>SoftBank</td>\n",
       "      <td>$275,000,000</td>\n",
       "      <td>Series G</td>\n",
       "      <td>2019</td>\n",
       "    </tr>\n",
       "    <tr>\n",
       "      <th>10</th>\n",
       "      <td>Cub McPaws</td>\n",
       "      <td>2010.0</td>\n",
       "      <td>Mumbai</td>\n",
       "      <td>E-commerce &amp; AR</td>\n",
       "      <td>A B2C  brand that focusses on premium and comf...</td>\n",
       "      <td>Abhay Bhat, Kinnar Shah</td>\n",
       "      <td>Venture Catalysts</td>\n",
       "      <td>Undisclosed</td>\n",
       "      <td>NaN</td>\n",
       "      <td>2019</td>\n",
       "    </tr>\n",
       "    <tr>\n",
       "      <th>11</th>\n",
       "      <td>Appnomic</td>\n",
       "      <td>NaN</td>\n",
       "      <td>Bangalore</td>\n",
       "      <td>SaaS</td>\n",
       "      <td>It is a self-healing enterprise, the IT operat...</td>\n",
       "      <td>D Padmanabhan</td>\n",
       "      <td>Avataar Ventures</td>\n",
       "      <td>$22,000,000</td>\n",
       "      <td>NaN</td>\n",
       "      <td>2019</td>\n",
       "    </tr>\n",
       "    <tr>\n",
       "      <th>12</th>\n",
       "      <td>Kaleidofin</td>\n",
       "      <td>2018.0</td>\n",
       "      <td>Chennai</td>\n",
       "      <td>Fintech</td>\n",
       "      <td>Platform that provides complete financial solu...</td>\n",
       "      <td>Puneet Gupta, Sucharita Mukherjee</td>\n",
       "      <td>Oikocredit</td>\n",
       "      <td>$5,000,000</td>\n",
       "      <td>Series A</td>\n",
       "      <td>2019</td>\n",
       "    </tr>\n",
       "    <tr>\n",
       "      <th>13</th>\n",
       "      <td>JobSquare</td>\n",
       "      <td>2019.0</td>\n",
       "      <td>Ahmedabad</td>\n",
       "      <td>HR tech</td>\n",
       "      <td>Technology-based platform that is connecting s...</td>\n",
       "      <td>Ishit Jethwa</td>\n",
       "      <td>Titan Capital</td>\n",
       "      <td>$140,500</td>\n",
       "      <td>NaN</td>\n",
       "      <td>2019</td>\n",
       "    </tr>\n",
       "    <tr>\n",
       "      <th>14</th>\n",
       "      <td>Open Secret</td>\n",
       "      <td>NaN</td>\n",
       "      <td>NaN</td>\n",
       "      <td>Food tech</td>\n",
       "      <td>It produces and sells top quality snacks</td>\n",
       "      <td>Ahana Gautam, Udit Kejriwal</td>\n",
       "      <td>Matrix Partners</td>\n",
       "      <td>Undisclosed</td>\n",
       "      <td>NaN</td>\n",
       "      <td>2019</td>\n",
       "    </tr>\n",
       "  </tbody>\n",
       "</table>\n",
       "</div>"
      ],
      "text/plain": [
       "     Company/Brand Founded HeadQuarter           Sector  \\\n",
       "0   Bombay Shaving     NaN         NaN        Ecommerce   \n",
       "1        Ruangguru  2014.0      Mumbai           Edtech   \n",
       "2         Eduisfun     NaN      Mumbai           Edtech   \n",
       "3         HomeLane  2014.0     Chennai  Interior design   \n",
       "4         Nu Genes  2004.0   Telangana         AgriTech   \n",
       "5         FlytBase     NaN        Pune       Technology   \n",
       "6            Finly     NaN   Bangalore             SaaS   \n",
       "7         Kratikal  2013.0       Noida       Technology   \n",
       "8        Quantiphi     NaN         NaN        AI & Tech   \n",
       "9         Lenskart  2010.0       Delhi       E-commerce   \n",
       "10      Cub McPaws  2010.0      Mumbai  E-commerce & AR   \n",
       "11        Appnomic     NaN   Bangalore             SaaS   \n",
       "12      Kaleidofin  2018.0     Chennai          Fintech   \n",
       "13       JobSquare  2019.0   Ahmedabad          HR tech   \n",
       "14     Open Secret     NaN         NaN        Food tech   \n",
       "\n",
       "                                         What it does  \\\n",
       "0          Provides a range of male grooming products   \n",
       "1   A learning platform that provides topic-based ...   \n",
       "2             It aims to make learning fun via games.   \n",
       "3               Provides interior designing solutions   \n",
       "4   It is a seed company engaged in production, pr...   \n",
       "5                         A drone automation platform   \n",
       "6   It builds software products that makes work si...   \n",
       "7   It is a product-based cybersecurity solutions ...   \n",
       "8   It is an AI and big data services company prov...   \n",
       "9                             It is a eyewear company   \n",
       "10  A B2C  brand that focusses on premium and comf...   \n",
       "11  It is a self-healing enterprise, the IT operat...   \n",
       "12  Platform that provides complete financial solu...   \n",
       "13  Technology-based platform that is connecting s...   \n",
       "14           It produces and sells top quality snacks   \n",
       "\n",
       "                                           Founders  \\\n",
       "0                                Shantanu Deshpande   \n",
       "1             Adamas Belva Syah Devara, Iman Usman.   \n",
       "2                                     Jatin Solanki   \n",
       "3                      Srikanth Iyer, Rama Harinath   \n",
       "4                            Narayana Reddy Punyala   \n",
       "5                                       Nitin Gupta   \n",
       "6                         Vivek AG, Veekshith C Rai   \n",
       "7   Pavan Kushwaha, Paratosh Bansal, Dip Jung Thapa   \n",
       "8                                    Renuka Ramnath   \n",
       "9      Peyush Bansal, Amit Chaudhary, Sumeet Kapahi   \n",
       "10                          Abhay Bhat, Kinnar Shah   \n",
       "11                                    D Padmanabhan   \n",
       "12                Puneet Gupta, Sucharita Mukherjee   \n",
       "13                                     Ishit Jethwa   \n",
       "14                      Ahana Gautam, Udit Kejriwal   \n",
       "\n",
       "                                             Investor     Amount($)  \\\n",
       "0                                Sixth Sense Ventures    $6,300,000   \n",
       "1                                    General Atlantic  $150,000,000   \n",
       "2      Deepak Parekh, Amitabh Bachchan, Piyush Pandey   $28,000,000   \n",
       "3   Evolvence India Fund (EIF), Pidilite Group, FJ...   $30,000,000   \n",
       "4            Innovation in Food and Agriculture (IFA)    $6,000,000   \n",
       "5                                         Undisclosed   Undisclosed   \n",
       "6   Social Capital, AngelList India, Gemba Capital...   Undisclosed   \n",
       "7          Gilda VC, Art Venture, Rajeev Chitrabhanu.    $1,000,000   \n",
       "8                Multiples Alternate Asset Management   $20,000,000   \n",
       "9                                            SoftBank  $275,000,000   \n",
       "10                                  Venture Catalysts   Undisclosed   \n",
       "11                                   Avataar Ventures   $22,000,000   \n",
       "12                                         Oikocredit    $5,000,000   \n",
       "13                                      Titan Capital      $140,500   \n",
       "14                                    Matrix Partners   Undisclosed   \n",
       "\n",
       "            Stage  Year  \n",
       "0             NaN  2019  \n",
       "1        Series C  2019  \n",
       "2   Fresh funding  2019  \n",
       "3        Series D  2019  \n",
       "4             NaN  2019  \n",
       "5             NaN  2019  \n",
       "6             NaN  2019  \n",
       "7    Pre series A  2019  \n",
       "8        Series A  2019  \n",
       "9        Series G  2019  \n",
       "10            NaN  2019  \n",
       "11            NaN  2019  \n",
       "12       Series A  2019  \n",
       "13            NaN  2019  \n",
       "14            NaN  2019  "
      ]
     },
     "execution_count": 7,
     "metadata": {},
     "output_type": "execute_result"
    }
   ],
   "source": [
    "fnd.head(15)"
   ]
  },
  {
   "cell_type": "code",
   "execution_count": 8,
   "id": "cJikgrR-rr_Z",
   "metadata": {
    "colab": {
     "base_uri": "https://localhost:8080/",
     "height": 294
    },
    "id": "cJikgrR-rr_Z",
    "outputId": "048e82e8-15cc-4ce0-9116-525619e38782",
    "scrolled": true
   },
   "outputs": [
    {
     "ename": "ValueError",
     "evalue": "Unable to parse string \"-\" at position 568",
     "output_type": "error",
     "traceback": [
      "\u001b[1;31m---------------------------------------------------------------------------\u001b[0m",
      "\u001b[1;31mValueError\u001b[0m                                Traceback (most recent call last)",
      "File \u001b[1;32m~\\anaconda3\\lib\\site-packages\\pandas\\_libs\\lib.pyx:2369\u001b[0m, in \u001b[0;36mpandas._libs.lib.maybe_convert_numeric\u001b[1;34m()\u001b[0m\n",
      "\u001b[1;31mValueError\u001b[0m: Unable to parse string \"-\"",
      "\nDuring handling of the above exception, another exception occurred:\n",
      "\u001b[1;31mValueError\u001b[0m                                Traceback (most recent call last)",
      "Cell \u001b[1;32mIn[8], line 1\u001b[0m\n\u001b[1;32m----> 1\u001b[0m \u001b[43mpd\u001b[49m\u001b[38;5;241;43m.\u001b[39;49m\u001b[43mto_numeric\u001b[49m\u001b[43m(\u001b[49m\u001b[43mfnd\u001b[49m\u001b[43m[\u001b[49m\u001b[38;5;124;43m'\u001b[39;49m\u001b[38;5;124;43mFounded\u001b[39;49m\u001b[38;5;124;43m'\u001b[39;49m\u001b[43m]\u001b[49m\u001b[43m)\u001b[49m\n",
      "File \u001b[1;32m~\\anaconda3\\lib\\site-packages\\pandas\\core\\tools\\numeric.py:185\u001b[0m, in \u001b[0;36mto_numeric\u001b[1;34m(arg, errors, downcast)\u001b[0m\n\u001b[0;32m    183\u001b[0m coerce_numeric \u001b[38;5;241m=\u001b[39m errors \u001b[38;5;129;01mnot\u001b[39;00m \u001b[38;5;129;01min\u001b[39;00m (\u001b[38;5;124m\"\u001b[39m\u001b[38;5;124mignore\u001b[39m\u001b[38;5;124m\"\u001b[39m, \u001b[38;5;124m\"\u001b[39m\u001b[38;5;124mraise\u001b[39m\u001b[38;5;124m\"\u001b[39m)\n\u001b[0;32m    184\u001b[0m \u001b[38;5;28;01mtry\u001b[39;00m:\n\u001b[1;32m--> 185\u001b[0m     values, _ \u001b[38;5;241m=\u001b[39m \u001b[43mlib\u001b[49m\u001b[38;5;241;43m.\u001b[39;49m\u001b[43mmaybe_convert_numeric\u001b[49m\u001b[43m(\u001b[49m\n\u001b[0;32m    186\u001b[0m \u001b[43m        \u001b[49m\u001b[43mvalues\u001b[49m\u001b[43m,\u001b[49m\u001b[43m \u001b[49m\u001b[38;5;28;43mset\u001b[39;49m\u001b[43m(\u001b[49m\u001b[43m)\u001b[49m\u001b[43m,\u001b[49m\u001b[43m \u001b[49m\u001b[43mcoerce_numeric\u001b[49m\u001b[38;5;241;43m=\u001b[39;49m\u001b[43mcoerce_numeric\u001b[49m\n\u001b[0;32m    187\u001b[0m \u001b[43m    \u001b[49m\u001b[43m)\u001b[49m\n\u001b[0;32m    188\u001b[0m \u001b[38;5;28;01mexcept\u001b[39;00m (\u001b[38;5;167;01mValueError\u001b[39;00m, \u001b[38;5;167;01mTypeError\u001b[39;00m):\n\u001b[0;32m    189\u001b[0m     \u001b[38;5;28;01mif\u001b[39;00m errors \u001b[38;5;241m==\u001b[39m \u001b[38;5;124m\"\u001b[39m\u001b[38;5;124mraise\u001b[39m\u001b[38;5;124m\"\u001b[39m:\n",
      "File \u001b[1;32m~\\anaconda3\\lib\\site-packages\\pandas\\_libs\\lib.pyx:2411\u001b[0m, in \u001b[0;36mpandas._libs.lib.maybe_convert_numeric\u001b[1;34m()\u001b[0m\n",
      "\u001b[1;31mValueError\u001b[0m: Unable to parse string \"-\" at position 568"
     ]
    }
   ],
   "source": [
    "pd.to_numeric(fnd['Founded'])"
   ]
  },
  {
   "cell_type": "code",
   "execution_count": 10,
   "id": "SImnLVINoyYU",
   "metadata": {
    "id": "SImnLVINoyYU",
    "scrolled": true
   },
   "outputs": [],
   "source": [
    "fnd.replace(to_replace=\"-\", value=\"\", inplace=True)"
   ]
  },
  {
   "cell_type": "code",
   "execution_count": 11,
   "id": "SEfjuvjbpHK-",
   "metadata": {
    "id": "SEfjuvjbpHK-",
    "scrolled": true
   },
   "outputs": [],
   "source": [
    "fnd['Founded'] = pd.to_numeric(fnd['Founded'])"
   ]
  },
  {
   "cell_type": "code",
   "execution_count": 12,
   "id": "meAjTSWOsHzd",
   "metadata": {
    "id": "meAjTSWOsHzd",
    "scrolled": true
   },
   "outputs": [],
   "source": [
    "fnd['Amount($)'] = fnd['Amount($)'].str.replace(\",\",\"\")"
   ]
  },
  {
   "cell_type": "code",
   "execution_count": 15,
   "id": "As59PwmNtQKN",
   "metadata": {
    "colab": {
     "base_uri": "https://localhost:8080/",
     "height": 304
    },
    "id": "As59PwmNtQKN",
    "outputId": "993f8fb2-7c74-4141-839c-233ede0cbd73",
    "scrolled": true
   },
   "outputs": [
    {
     "ename": "ValueError",
     "evalue": "Unable to parse string \"Undisclosed\" at position 5",
     "output_type": "error",
     "traceback": [
      "\u001b[1;31m---------------------------------------------------------------------------\u001b[0m",
      "\u001b[1;31mValueError\u001b[0m                                Traceback (most recent call last)",
      "File \u001b[1;32m~\\anaconda3\\lib\\site-packages\\pandas\\_libs\\lib.pyx:2369\u001b[0m, in \u001b[0;36mpandas._libs.lib.maybe_convert_numeric\u001b[1;34m()\u001b[0m\n",
      "\u001b[1;31mValueError\u001b[0m: Unable to parse string \"Undisclosed\"",
      "\nDuring handling of the above exception, another exception occurred:\n",
      "\u001b[1;31mValueError\u001b[0m                                Traceback (most recent call last)",
      "Cell \u001b[1;32mIn[15], line 1\u001b[0m\n\u001b[1;32m----> 1\u001b[0m fnd[\u001b[38;5;124m'\u001b[39m\u001b[38;5;124mAmount($)\u001b[39m\u001b[38;5;124m'\u001b[39m]\u001b[38;5;241m=\u001b[39m \u001b[43mpd\u001b[49m\u001b[38;5;241;43m.\u001b[39;49m\u001b[43mto_numeric\u001b[49m\u001b[43m(\u001b[49m\u001b[43mfnd\u001b[49m\u001b[43m[\u001b[49m\u001b[38;5;124;43m'\u001b[39;49m\u001b[38;5;124;43mAmount($)\u001b[39;49m\u001b[38;5;124;43m'\u001b[39;49m\u001b[43m]\u001b[49m\u001b[43m)\u001b[49m\n",
      "File \u001b[1;32m~\\anaconda3\\lib\\site-packages\\pandas\\core\\tools\\numeric.py:185\u001b[0m, in \u001b[0;36mto_numeric\u001b[1;34m(arg, errors, downcast)\u001b[0m\n\u001b[0;32m    183\u001b[0m coerce_numeric \u001b[38;5;241m=\u001b[39m errors \u001b[38;5;129;01mnot\u001b[39;00m \u001b[38;5;129;01min\u001b[39;00m (\u001b[38;5;124m\"\u001b[39m\u001b[38;5;124mignore\u001b[39m\u001b[38;5;124m\"\u001b[39m, \u001b[38;5;124m\"\u001b[39m\u001b[38;5;124mraise\u001b[39m\u001b[38;5;124m\"\u001b[39m)\n\u001b[0;32m    184\u001b[0m \u001b[38;5;28;01mtry\u001b[39;00m:\n\u001b[1;32m--> 185\u001b[0m     values, _ \u001b[38;5;241m=\u001b[39m \u001b[43mlib\u001b[49m\u001b[38;5;241;43m.\u001b[39;49m\u001b[43mmaybe_convert_numeric\u001b[49m\u001b[43m(\u001b[49m\n\u001b[0;32m    186\u001b[0m \u001b[43m        \u001b[49m\u001b[43mvalues\u001b[49m\u001b[43m,\u001b[49m\u001b[43m \u001b[49m\u001b[38;5;28;43mset\u001b[39;49m\u001b[43m(\u001b[49m\u001b[43m)\u001b[49m\u001b[43m,\u001b[49m\u001b[43m \u001b[49m\u001b[43mcoerce_numeric\u001b[49m\u001b[38;5;241;43m=\u001b[39;49m\u001b[43mcoerce_numeric\u001b[49m\n\u001b[0;32m    187\u001b[0m \u001b[43m    \u001b[49m\u001b[43m)\u001b[49m\n\u001b[0;32m    188\u001b[0m \u001b[38;5;28;01mexcept\u001b[39;00m (\u001b[38;5;167;01mValueError\u001b[39;00m, \u001b[38;5;167;01mTypeError\u001b[39;00m):\n\u001b[0;32m    189\u001b[0m     \u001b[38;5;28;01mif\u001b[39;00m errors \u001b[38;5;241m==\u001b[39m \u001b[38;5;124m\"\u001b[39m\u001b[38;5;124mraise\u001b[39m\u001b[38;5;124m\"\u001b[39m:\n",
      "File \u001b[1;32m~\\anaconda3\\lib\\site-packages\\pandas\\_libs\\lib.pyx:2411\u001b[0m, in \u001b[0;36mpandas._libs.lib.maybe_convert_numeric\u001b[1;34m()\u001b[0m\n",
      "\u001b[1;31mValueError\u001b[0m: Unable to parse string \"Undisclosed\" at position 5"
     ]
    }
   ],
   "source": [
    "fnd['Amount($)']= pd.to_numeric(fnd['Amount($)'])"
   ]
  },
  {
   "cell_type": "code",
   "execution_count": 16,
   "id": "Te0BQfgXtAbs",
   "metadata": {
    "id": "Te0BQfgXtAbs",
    "scrolled": true
   },
   "outputs": [],
   "source": [
    "fnd['Amount($)'] = fnd['Amount($)'].str.replace(\"Undisclosed\",\"\")"
   ]
  },
  {
   "cell_type": "code",
   "execution_count": 17,
   "id": "z_PkaMAataty",
   "metadata": {
    "id": "z_PkaMAataty",
    "scrolled": true
   },
   "outputs": [],
   "source": [
    "fnd['Amount($)']= pd.to_numeric(fnd['Amount($)'])"
   ]
  },
  {
   "cell_type": "code",
   "execution_count": 18,
   "id": "kkdMUUCutgAb",
   "metadata": {
    "colab": {
     "base_uri": "https://localhost:8080/"
    },
    "id": "kkdMUUCutgAb",
    "outputId": "0450f275-1443-453d-fa84-6c4b49d20d49",
    "scrolled": true
   },
   "outputs": [
    {
     "name": "stdout",
     "output_type": "stream",
     "text": [
      "<class 'pandas.core.frame.DataFrame'>\n",
      "Int64Index: 2343 entries, 0 to 1201\n",
      "Data columns (total 10 columns):\n",
      " #   Column         Non-Null Count  Dtype  \n",
      "---  ------         --------------  -----  \n",
      " 0   Company/Brand  2343 non-null   object \n",
      " 1   Founded        2101 non-null   float64\n",
      " 2   HeadQuarter    2228 non-null   object \n",
      " 3   Sector         2325 non-null   object \n",
      " 4   What it does   2343 non-null   object \n",
      " 5   Founders       2324 non-null   object \n",
      " 6   Investor       2243 non-null   object \n",
      " 7   Amount($)      1841 non-null   float64\n",
      " 8   Stage          1220 non-null   object \n",
      " 9   Year           2343 non-null   int64  \n",
      "dtypes: float64(2), int64(1), object(7)\n",
      "memory usage: 201.4+ KB\n"
     ]
    }
   ],
   "source": [
    "fnd.info()"
   ]
  },
  {
   "cell_type": "code",
   "execution_count": 19,
   "id": "708PSbxzvu75",
   "metadata": {
    "id": "708PSbxzvu75",
    "scrolled": true
   },
   "outputs": [],
   "source": [
    "fnd['Stage'] = fnd['Stage'].fillna('')"
   ]
  },
  {
   "cell_type": "code",
   "execution_count": 20,
   "id": "m6yiB-Kuwtpd",
   "metadata": {
    "colab": {
     "base_uri": "https://localhost:8080/",
     "height": 623
    },
    "id": "m6yiB-Kuwtpd",
    "outputId": "8a86519c-467a-4aef-c7cc-638c3f133c61",
    "scrolled": true
   },
   "outputs": [
    {
     "data": {
      "text/html": [
       "<div>\n",
       "<style scoped>\n",
       "    .dataframe tbody tr th:only-of-type {\n",
       "        vertical-align: middle;\n",
       "    }\n",
       "\n",
       "    .dataframe tbody tr th {\n",
       "        vertical-align: top;\n",
       "    }\n",
       "\n",
       "    .dataframe thead th {\n",
       "        text-align: right;\n",
       "    }\n",
       "</style>\n",
       "<table border=\"1\" class=\"dataframe\">\n",
       "  <thead>\n",
       "    <tr style=\"text-align: right;\">\n",
       "      <th></th>\n",
       "      <th>Company/Brand</th>\n",
       "      <th>Founded</th>\n",
       "      <th>HeadQuarter</th>\n",
       "      <th>Sector</th>\n",
       "      <th>What it does</th>\n",
       "      <th>Founders</th>\n",
       "      <th>Investor</th>\n",
       "      <th>Amount($)</th>\n",
       "      <th>Stage</th>\n",
       "      <th>Year</th>\n",
       "    </tr>\n",
       "  </thead>\n",
       "  <tbody>\n",
       "    <tr>\n",
       "      <th>5</th>\n",
       "      <td>FlytBase</td>\n",
       "      <td>NaN</td>\n",
       "      <td>Pune</td>\n",
       "      <td>Technology</td>\n",
       "      <td>A drone automation platform</td>\n",
       "      <td>Nitin Gupta</td>\n",
       "      <td>Undisclosed</td>\n",
       "      <td>NaN</td>\n",
       "      <td></td>\n",
       "      <td>2019</td>\n",
       "    </tr>\n",
       "    <tr>\n",
       "      <th>6</th>\n",
       "      <td>Finly</td>\n",
       "      <td>NaN</td>\n",
       "      <td>Bangalore</td>\n",
       "      <td>SaaS</td>\n",
       "      <td>It builds software products that makes work si...</td>\n",
       "      <td>Vivek AG, Veekshith C Rai</td>\n",
       "      <td>Social Capital, AngelList India, Gemba Capital...</td>\n",
       "      <td>NaN</td>\n",
       "      <td></td>\n",
       "      <td>2019</td>\n",
       "    </tr>\n",
       "    <tr>\n",
       "      <th>10</th>\n",
       "      <td>Cub McPaws</td>\n",
       "      <td>2010.0</td>\n",
       "      <td>Mumbai</td>\n",
       "      <td>E-commerce &amp; AR</td>\n",
       "      <td>A B2C  brand that focusses on premium and comf...</td>\n",
       "      <td>Abhay Bhat, Kinnar Shah</td>\n",
       "      <td>Venture Catalysts</td>\n",
       "      <td>NaN</td>\n",
       "      <td></td>\n",
       "      <td>2019</td>\n",
       "    </tr>\n",
       "    <tr>\n",
       "      <th>14</th>\n",
       "      <td>Open Secret</td>\n",
       "      <td>NaN</td>\n",
       "      <td>NaN</td>\n",
       "      <td>Food tech</td>\n",
       "      <td>It produces and sells top quality snacks</td>\n",
       "      <td>Ahana Gautam, Udit Kejriwal</td>\n",
       "      <td>Matrix Partners</td>\n",
       "      <td>NaN</td>\n",
       "      <td></td>\n",
       "      <td>2019</td>\n",
       "    </tr>\n",
       "    <tr>\n",
       "      <th>19</th>\n",
       "      <td>Azah Personal Care Pvt. Ltd.</td>\n",
       "      <td>2018.0</td>\n",
       "      <td>Gurugram</td>\n",
       "      <td>Health</td>\n",
       "      <td>Aims to solve some problems in the feminine hy...</td>\n",
       "      <td>Mohammed, Shashwat Diesh</td>\n",
       "      <td>Kunal Bahl, Rohit Bansal.</td>\n",
       "      <td>NaN</td>\n",
       "      <td>Pre series A</td>\n",
       "      <td>2019</td>\n",
       "    </tr>\n",
       "    <tr>\n",
       "      <th>...</th>\n",
       "      <td>...</td>\n",
       "      <td>...</td>\n",
       "      <td>...</td>\n",
       "      <td>...</td>\n",
       "      <td>...</td>\n",
       "      <td>...</td>\n",
       "      <td>...</td>\n",
       "      <td>...</td>\n",
       "      <td>...</td>\n",
       "      <td>...</td>\n",
       "    </tr>\n",
       "    <tr>\n",
       "      <th>1141</th>\n",
       "      <td>Godamwale</td>\n",
       "      <td>2016.0</td>\n",
       "      <td>Mumbai</td>\n",
       "      <td>Logistics &amp; Supply Chain</td>\n",
       "      <td>Godamwale is tech enabled integrated logistics...</td>\n",
       "      <td>Basant Kumar, Vivek Tiwari, Ranbir Nandan</td>\n",
       "      <td>NaN</td>\n",
       "      <td>NaN</td>\n",
       "      <td>Seed</td>\n",
       "      <td>2021</td>\n",
       "    </tr>\n",
       "    <tr>\n",
       "      <th>1153</th>\n",
       "      <td>Atomberg Technologies</td>\n",
       "      <td>2012.0</td>\n",
       "      <td>Mumbai</td>\n",
       "      <td>Consumer Electronics</td>\n",
       "      <td>A maker of energy-efficient smart fans</td>\n",
       "      <td>Manoj Meena, Sibabrata Das</td>\n",
       "      <td>Ka Enterprises</td>\n",
       "      <td>NaN</td>\n",
       "      <td></td>\n",
       "      <td>2021</td>\n",
       "    </tr>\n",
       "    <tr>\n",
       "      <th>1154</th>\n",
       "      <td>Genext Students</td>\n",
       "      <td>2013.0</td>\n",
       "      <td>Mumbai</td>\n",
       "      <td>EdTech</td>\n",
       "      <td>LIVE online classes with expert tutors for K-1...</td>\n",
       "      <td>Ali Asgar Kagzi, Piyush Dhanuka</td>\n",
       "      <td>Navneet Education</td>\n",
       "      <td>NaN</td>\n",
       "      <td></td>\n",
       "      <td>2021</td>\n",
       "    </tr>\n",
       "    <tr>\n",
       "      <th>1159</th>\n",
       "      <td>OckyPocky</td>\n",
       "      <td>2015.0</td>\n",
       "      <td>Gurugram</td>\n",
       "      <td>EdTech</td>\n",
       "      <td>OckyPocky is India's 1st interactive English l...</td>\n",
       "      <td>Amit Agrawal</td>\n",
       "      <td>Sujeet Kumar, SucSEED Indovation Fund</td>\n",
       "      <td>NaN</td>\n",
       "      <td>Seed</td>\n",
       "      <td>2021</td>\n",
       "    </tr>\n",
       "    <tr>\n",
       "      <th>1186</th>\n",
       "      <td>Sapio Analytics</td>\n",
       "      <td>2019.0</td>\n",
       "      <td>Mumbai</td>\n",
       "      <td>Computer Software</td>\n",
       "      <td>Sapio helps government create policies driven ...</td>\n",
       "      <td>Hardik Somani, Ashwin Srivastava, Shripal Jain...</td>\n",
       "      <td>Rachit Poddar, Rajesh Gupta</td>\n",
       "      <td>NaN</td>\n",
       "      <td></td>\n",
       "      <td>2021</td>\n",
       "    </tr>\n",
       "  </tbody>\n",
       "</table>\n",
       "<p>502 rows × 10 columns</p>\n",
       "</div>"
      ],
      "text/plain": [
       "                     Company/Brand  Founded HeadQuarter  \\\n",
       "5                         FlytBase      NaN        Pune   \n",
       "6                            Finly      NaN   Bangalore   \n",
       "10                      Cub McPaws   2010.0      Mumbai   \n",
       "14                     Open Secret      NaN         NaN   \n",
       "19    Azah Personal Care Pvt. Ltd.   2018.0    Gurugram   \n",
       "...                            ...      ...         ...   \n",
       "1141                     Godamwale   2016.0      Mumbai   \n",
       "1153         Atomberg Technologies   2012.0      Mumbai   \n",
       "1154               Genext Students   2013.0      Mumbai   \n",
       "1159                     OckyPocky   2015.0    Gurugram   \n",
       "1186               Sapio Analytics   2019.0      Mumbai   \n",
       "\n",
       "                        Sector  \\\n",
       "5                   Technology   \n",
       "6                         SaaS   \n",
       "10             E-commerce & AR   \n",
       "14                   Food tech   \n",
       "19                      Health   \n",
       "...                        ...   \n",
       "1141  Logistics & Supply Chain   \n",
       "1153      Consumer Electronics   \n",
       "1154                    EdTech   \n",
       "1159                    EdTech   \n",
       "1186         Computer Software   \n",
       "\n",
       "                                           What it does  \\\n",
       "5                           A drone automation platform   \n",
       "6     It builds software products that makes work si...   \n",
       "10    A B2C  brand that focusses on premium and comf...   \n",
       "14             It produces and sells top quality snacks   \n",
       "19    Aims to solve some problems in the feminine hy...   \n",
       "...                                                 ...   \n",
       "1141  Godamwale is tech enabled integrated logistics...   \n",
       "1153             A maker of energy-efficient smart fans   \n",
       "1154  LIVE online classes with expert tutors for K-1...   \n",
       "1159  OckyPocky is India's 1st interactive English l...   \n",
       "1186  Sapio helps government create policies driven ...   \n",
       "\n",
       "                                               Founders  \\\n",
       "5                                           Nitin Gupta   \n",
       "6                             Vivek AG, Veekshith C Rai   \n",
       "10                              Abhay Bhat, Kinnar Shah   \n",
       "14                          Ahana Gautam, Udit Kejriwal   \n",
       "19                             Mohammed, Shashwat Diesh   \n",
       "...                                                 ...   \n",
       "1141          Basant Kumar, Vivek Tiwari, Ranbir Nandan   \n",
       "1153                         Manoj Meena, Sibabrata Das   \n",
       "1154                    Ali Asgar Kagzi, Piyush Dhanuka   \n",
       "1159                                       Amit Agrawal   \n",
       "1186  Hardik Somani, Ashwin Srivastava, Shripal Jain...   \n",
       "\n",
       "                                               Investor  Amount($)  \\\n",
       "5                                           Undisclosed        NaN   \n",
       "6     Social Capital, AngelList India, Gemba Capital...        NaN   \n",
       "10                                    Venture Catalysts        NaN   \n",
       "14                                      Matrix Partners        NaN   \n",
       "19                            Kunal Bahl, Rohit Bansal.        NaN   \n",
       "...                                                 ...        ...   \n",
       "1141                                                NaN        NaN   \n",
       "1153                                     Ka Enterprises        NaN   \n",
       "1154                                  Navneet Education        NaN   \n",
       "1159              Sujeet Kumar, SucSEED Indovation Fund        NaN   \n",
       "1186                        Rachit Poddar, Rajesh Gupta        NaN   \n",
       "\n",
       "             Stage  Year  \n",
       "5                   2019  \n",
       "6                   2019  \n",
       "10                  2019  \n",
       "14                  2019  \n",
       "19    Pre series A  2019  \n",
       "...            ...   ...  \n",
       "1141          Seed  2021  \n",
       "1153                2021  \n",
       "1154                2021  \n",
       "1159          Seed  2021  \n",
       "1186                2021  \n",
       "\n",
       "[502 rows x 10 columns]"
      ]
     },
     "execution_count": 20,
     "metadata": {},
     "output_type": "execute_result"
    }
   ],
   "source": [
    "fnd[pd.isna(fnd['Amount($)'])]"
   ]
  },
  {
   "cell_type": "code",
   "execution_count": 21,
   "id": "SOjyJdzfxBTK",
   "metadata": {
    "id": "SOjyJdzfxBTK",
    "scrolled": true
   },
   "outputs": [],
   "source": [
    "fnd['Amount($)'] = fnd['Amount($)'].fillna(0)"
   ]
  },
  {
   "cell_type": "markdown",
   "id": "b1FchSMU1NX6",
   "metadata": {
    "id": "b1FchSMU1NX6"
   },
   "source": [
    "I decided to leave the NaN in the 'Founded' year because replacing it with a value such as 0 distorts the descriptive statistics on min etc."
   ]
  },
  {
   "cell_type": "code",
   "execution_count": 22,
   "id": "225mOcCzxkSV",
   "metadata": {
    "colab": {
     "base_uri": "https://localhost:8080/",
     "height": 300
    },
    "id": "225mOcCzxkSV",
    "outputId": "26889b0d-3206-4a2f-d94d-8314077422bc",
    "scrolled": true
   },
   "outputs": [
    {
     "data": {
      "text/html": [
       "<div>\n",
       "<style scoped>\n",
       "    .dataframe tbody tr th:only-of-type {\n",
       "        vertical-align: middle;\n",
       "    }\n",
       "\n",
       "    .dataframe tbody tr th {\n",
       "        vertical-align: top;\n",
       "    }\n",
       "\n",
       "    .dataframe thead th {\n",
       "        text-align: right;\n",
       "    }\n",
       "</style>\n",
       "<table border=\"1\" class=\"dataframe\">\n",
       "  <thead>\n",
       "    <tr style=\"text-align: right;\">\n",
       "      <th></th>\n",
       "      <th>Founded</th>\n",
       "      <th>Amount($)</th>\n",
       "      <th>Year</th>\n",
       "    </tr>\n",
       "  </thead>\n",
       "  <tbody>\n",
       "    <tr>\n",
       "      <th>count</th>\n",
       "      <td>2101.000000</td>\n",
       "      <td>2.343000e+03</td>\n",
       "      <td>2343.000000</td>\n",
       "    </tr>\n",
       "    <tr>\n",
       "      <th>mean</th>\n",
       "      <td>2016.085198</td>\n",
       "      <td>1.158957e+08</td>\n",
       "      <td>2020.475032</td>\n",
       "    </tr>\n",
       "    <tr>\n",
       "      <th>std</th>\n",
       "      <td>4.368597</td>\n",
       "      <td>3.420097e+09</td>\n",
       "      <td>0.570514</td>\n",
       "    </tr>\n",
       "    <tr>\n",
       "      <th>min</th>\n",
       "      <td>1963.000000</td>\n",
       "      <td>0.000000e+00</td>\n",
       "      <td>2019.000000</td>\n",
       "    </tr>\n",
       "    <tr>\n",
       "      <th>25%</th>\n",
       "      <td>2015.000000</td>\n",
       "      <td>2.000000e+05</td>\n",
       "      <td>2020.000000</td>\n",
       "    </tr>\n",
       "    <tr>\n",
       "      <th>50%</th>\n",
       "      <td>2017.000000</td>\n",
       "      <td>1.900000e+06</td>\n",
       "      <td>2021.000000</td>\n",
       "    </tr>\n",
       "    <tr>\n",
       "      <th>75%</th>\n",
       "      <td>2019.000000</td>\n",
       "      <td>9.950000e+06</td>\n",
       "      <td>2021.000000</td>\n",
       "    </tr>\n",
       "    <tr>\n",
       "      <th>max</th>\n",
       "      <td>2021.000000</td>\n",
       "      <td>1.500000e+11</td>\n",
       "      <td>2021.000000</td>\n",
       "    </tr>\n",
       "  </tbody>\n",
       "</table>\n",
       "</div>"
      ],
      "text/plain": [
       "           Founded     Amount($)         Year\n",
       "count  2101.000000  2.343000e+03  2343.000000\n",
       "mean   2016.085198  1.158957e+08  2020.475032\n",
       "std       4.368597  3.420097e+09     0.570514\n",
       "min    1963.000000  0.000000e+00  2019.000000\n",
       "25%    2015.000000  2.000000e+05  2020.000000\n",
       "50%    2017.000000  1.900000e+06  2021.000000\n",
       "75%    2019.000000  9.950000e+06  2021.000000\n",
       "max    2021.000000  1.500000e+11  2021.000000"
      ]
     },
     "execution_count": 22,
     "metadata": {},
     "output_type": "execute_result"
    }
   ],
   "source": [
    "fnd.describe()"
   ]
  },
  {
   "cell_type": "code",
   "execution_count": 23,
   "id": "Dpeb4xYaxINY",
   "metadata": {
    "colab": {
     "base_uri": "https://localhost:8080/"
    },
    "id": "Dpeb4xYaxINY",
    "outputId": "74c80a53-50b5-4f07-8d61-f9669a220be5",
    "scrolled": true
   },
   "outputs": [
    {
     "name": "stdout",
     "output_type": "stream",
     "text": [
      "271543633855.83002\n"
     ]
    }
   ],
   "source": [
    "print(fnd['Amount($)'].sum())"
   ]
  },
  {
   "cell_type": "markdown",
   "id": "805c1d48",
   "metadata": {},
   "source": [
    "**Total amount of funding of dataframe is 271543633855.83 $**"
   ]
  },
  {
   "cell_type": "markdown",
   "id": "65cd9537-3d28-4361-a8db-8be41843e801",
   "metadata": {
    "id": "65cd9537-3d28-4361-a8db-8be41843e801"
   },
   "source": [
    "The following code shows us that \"Inflection Point Ventures\" was the `Investor` that funded the highest number of `Company/Brand`s overall (36 companies funded from 2019 to 2021).\n",
    "\n",
    " How did \"Inflection Point Ventures\" **rank** *(in terms of most `Company/Brand`s funded) **in 2020**? "
   ]
  },
  {
   "cell_type": "code",
   "execution_count": 24,
   "id": "28c4329f-45da-4220-b871-4535ee010fde",
   "metadata": {
    "colab": {
     "base_uri": "https://localhost:8080/",
     "height": 81
    },
    "id": "28c4329f-45da-4220-b871-4535ee010fde",
    "outputId": "75627efc-9bc2-486d-c7d1-0dddb4108f8f",
    "scrolled": true
   },
   "outputs": [
    {
     "data": {
      "text/html": [
       "<div>\n",
       "<style scoped>\n",
       "    .dataframe tbody tr th:only-of-type {\n",
       "        vertical-align: middle;\n",
       "    }\n",
       "\n",
       "    .dataframe tbody tr th {\n",
       "        vertical-align: top;\n",
       "    }\n",
       "\n",
       "    .dataframe thead th {\n",
       "        text-align: right;\n",
       "    }\n",
       "</style>\n",
       "<table border=\"1\" class=\"dataframe\">\n",
       "  <thead>\n",
       "    <tr style=\"text-align: right;\">\n",
       "      <th></th>\n",
       "      <th>Investor</th>\n",
       "      <th>size</th>\n",
       "    </tr>\n",
       "  </thead>\n",
       "  <tbody>\n",
       "    <tr>\n",
       "      <th>696</th>\n",
       "      <td>Inflection Point Ventures</td>\n",
       "      <td>36</td>\n",
       "    </tr>\n",
       "  </tbody>\n",
       "</table>\n",
       "</div>"
      ],
      "text/plain": [
       "                      Investor  size\n",
       "696  Inflection Point Ventures    36"
      ]
     },
     "execution_count": 24,
     "metadata": {},
     "output_type": "execute_result"
    }
   ],
   "source": [
    "fnd.groupby('Investor', as_index=False).size().sort_values('size', ascending=False).head(1)"
   ]
  },
  {
   "cell_type": "code",
   "execution_count": 25,
   "id": "6c77666b-4ef9-4df7-a83f-a4231bc9726f",
   "metadata": {
    "id": "6c77666b-4ef9-4df7-a83f-a4231bc9726f",
    "scrolled": true
   },
   "outputs": [],
   "source": [
    "fnd_2020 = fnd[fnd['Year']==2020]"
   ]
  },
  {
   "cell_type": "code",
   "execution_count": 26,
   "id": "DY50vl5b0UJY",
   "metadata": {
    "colab": {
     "base_uri": "https://localhost:8080/",
     "height": 206
    },
    "id": "DY50vl5b0UJY",
    "outputId": "d8fb1eff-155a-4a1a-e827-1fa439d2833a",
    "scrolled": true
   },
   "outputs": [
    {
     "data": {
      "text/html": [
       "<div>\n",
       "<style scoped>\n",
       "    .dataframe tbody tr th:only-of-type {\n",
       "        vertical-align: middle;\n",
       "    }\n",
       "\n",
       "    .dataframe tbody tr th {\n",
       "        vertical-align: top;\n",
       "    }\n",
       "\n",
       "    .dataframe thead th {\n",
       "        text-align: right;\n",
       "    }\n",
       "</style>\n",
       "<table border=\"1\" class=\"dataframe\">\n",
       "  <thead>\n",
       "    <tr style=\"text-align: right;\">\n",
       "      <th></th>\n",
       "      <th>Investor</th>\n",
       "      <th>size</th>\n",
       "    </tr>\n",
       "  </thead>\n",
       "  <tbody>\n",
       "    <tr>\n",
       "      <th>789</th>\n",
       "      <td>Venture Catalysts</td>\n",
       "      <td>20</td>\n",
       "    </tr>\n",
       "    <tr>\n",
       "      <th>484</th>\n",
       "      <td>Mumbai Angels Network</td>\n",
       "      <td>12</td>\n",
       "    </tr>\n",
       "    <tr>\n",
       "      <th>85</th>\n",
       "      <td>Angel investors</td>\n",
       "      <td>12</td>\n",
       "    </tr>\n",
       "    <tr>\n",
       "      <th>334</th>\n",
       "      <td>Inflection Point Ventures</td>\n",
       "      <td>11</td>\n",
       "    </tr>\n",
       "    <tr>\n",
       "      <th>769</th>\n",
       "      <td>Undisclosed</td>\n",
       "      <td>10</td>\n",
       "    </tr>\n",
       "  </tbody>\n",
       "</table>\n",
       "</div>"
      ],
      "text/plain": [
       "                      Investor  size\n",
       "789          Venture Catalysts    20\n",
       "484      Mumbai Angels Network    12\n",
       "85             Angel investors    12\n",
       "334  Inflection Point Ventures    11\n",
       "769                Undisclosed    10"
      ]
     },
     "execution_count": 26,
     "metadata": {},
     "output_type": "execute_result"
    }
   ],
   "source": [
    "fnd_2020.groupby('Investor', as_index=False).size().sort_values('size', ascending=False).head(5)"
   ]
  },
  {
   "cell_type": "markdown",
   "id": "91cb528c",
   "metadata": {},
   "source": [
    "**Venture Catalysts** was the Investor that funded the highest number of Company/Brand in 2020"
   ]
  },
  {
   "cell_type": "markdown",
   "id": "15e74093",
   "metadata": {},
   "source": [
    "Now I'll work with a datasets containing information of over **20k Software Professionals** with different variables like:\n",
    "\n",
    "- the `Rating` of the company given by the employee,\n",
    "- the `Company Name`,\n",
    "- the `Job Title` of the employee,\n",
    "- the employee `Salary` (in Indian Rupee ₹),\n",
    "- the number of `Salaries Reported`,\n",
    "- the `Location` of the company,\n",
    "- the `Employment Status` and\n",
    "- the category of the `Job Roles`\n",
    "\n",
    "The dataset name is `Software Professionals Salary.xlsx` At [this link](https://www.kaggle.com/datasets/iamsouravbanerjee/software-professional-salaries-2022?search=salary) you can find the source of the data (Kaggle) as well as more information on its composition."
   ]
  },
  {
   "cell_type": "markdown",
   "id": "9e1ebfb8-ee7b-428d-8075-ba8ea6c9f63a",
   "metadata": {
    "id": "9e1ebfb8-ee7b-428d-8075-ba8ea6c9f63a"
   },
   "source": [
    "**Question**: Look at the `City` that received the **highest** `Avg. Rating` score by employees: what is the `Nr. Companies Funded` in that city?"
   ]
  },
  {
   "cell_type": "code",
   "execution_count": 28,
   "id": "594dbaa6-906b-4041-9943-148927b5750a",
   "metadata": {
    "id": "594dbaa6-906b-4041-9943-148927b5750a",
    "scrolled": true
   },
   "outputs": [],
   "source": [
    "sps = pd.read_excel(\"Software Professionals Salary.xlsx\")"
   ]
  },
  {
   "cell_type": "code",
   "execution_count": 29,
   "id": "MbwyEHWb2Z_m",
   "metadata": {
    "colab": {
     "base_uri": "https://localhost:8080/"
    },
    "id": "MbwyEHWb2Z_m",
    "outputId": "886991d4-1d82-441c-e53b-65bb458939d2",
    "scrolled": true
   },
   "outputs": [
    {
     "name": "stdout",
     "output_type": "stream",
     "text": [
      "<class 'pandas.core.frame.DataFrame'>\n",
      "RangeIndex: 22770 entries, 0 to 22769\n",
      "Data columns (total 8 columns):\n",
      " #   Column             Non-Null Count  Dtype  \n",
      "---  ------             --------------  -----  \n",
      " 0   Rating             22770 non-null  float64\n",
      " 1   Company Name       22770 non-null  object \n",
      " 2   Job Title          22770 non-null  object \n",
      " 3   Salary             22770 non-null  int64  \n",
      " 4   Salaries Reported  22770 non-null  int64  \n",
      " 5   Location           22770 non-null  object \n",
      " 6   Employment Status  22770 non-null  object \n",
      " 7   Job Roles          22770 non-null  object \n",
      "dtypes: float64(1), int64(2), object(5)\n",
      "memory usage: 1.4+ MB\n"
     ]
    }
   ],
   "source": [
    "sps.info()"
   ]
  },
  {
   "cell_type": "code",
   "execution_count": 30,
   "id": "1b7nrH332N-i",
   "metadata": {
    "id": "1b7nrH332N-i",
    "scrolled": true
   },
   "outputs": [],
   "source": [
    "sps_loc = sps.groupby(['Location'], as_index=False).agg(avg_rating=('Rating','mean'),avg_salary=('Salary','mean'))"
   ]
  },
  {
   "cell_type": "code",
   "execution_count": 31,
   "id": "NmRTJk-x20BG",
   "metadata": {
    "colab": {
     "base_uri": "https://localhost:8080/",
     "height": 363
    },
    "id": "NmRTJk-x20BG",
    "outputId": "1f112535-e91d-452f-f0ff-9aea7ac2ff1c",
    "scrolled": true
   },
   "outputs": [
    {
     "data": {
      "text/html": [
       "<div>\n",
       "<style scoped>\n",
       "    .dataframe tbody tr th:only-of-type {\n",
       "        vertical-align: middle;\n",
       "    }\n",
       "\n",
       "    .dataframe tbody tr th {\n",
       "        vertical-align: top;\n",
       "    }\n",
       "\n",
       "    .dataframe thead th {\n",
       "        text-align: right;\n",
       "    }\n",
       "</style>\n",
       "<table border=\"1\" class=\"dataframe\">\n",
       "  <thead>\n",
       "    <tr style=\"text-align: right;\">\n",
       "      <th></th>\n",
       "      <th>Location</th>\n",
       "      <th>avg_rating</th>\n",
       "      <th>avg_salary</th>\n",
       "    </tr>\n",
       "  </thead>\n",
       "  <tbody>\n",
       "    <tr>\n",
       "      <th>0</th>\n",
       "      <td>Bangalore</td>\n",
       "      <td>3.920232</td>\n",
       "      <td>735344.739593</td>\n",
       "    </tr>\n",
       "    <tr>\n",
       "      <th>1</th>\n",
       "      <td>Chennai</td>\n",
       "      <td>3.902726</td>\n",
       "      <td>584559.661513</td>\n",
       "    </tr>\n",
       "    <tr>\n",
       "      <th>2</th>\n",
       "      <td>Hyderabad</td>\n",
       "      <td>3.914484</td>\n",
       "      <td>679099.157376</td>\n",
       "    </tr>\n",
       "    <tr>\n",
       "      <th>3</th>\n",
       "      <td>Jaipur</td>\n",
       "      <td>3.940741</td>\n",
       "      <td>629135.802469</td>\n",
       "    </tr>\n",
       "    <tr>\n",
       "      <th>4</th>\n",
       "      <td>Kerala</td>\n",
       "      <td>3.885185</td>\n",
       "      <td>553577.481481</td>\n",
       "    </tr>\n",
       "    <tr>\n",
       "      <th>5</th>\n",
       "      <td>Kolkata</td>\n",
       "      <td>4.024719</td>\n",
       "      <td>710925.573034</td>\n",
       "    </tr>\n",
       "    <tr>\n",
       "      <th>6</th>\n",
       "      <td>Madhya Pradesh</td>\n",
       "      <td>3.992258</td>\n",
       "      <td>677641.909677</td>\n",
       "    </tr>\n",
       "    <tr>\n",
       "      <th>7</th>\n",
       "      <td>Mumbai</td>\n",
       "      <td>3.881709</td>\n",
       "      <td>961180.368491</td>\n",
       "    </tr>\n",
       "    <tr>\n",
       "      <th>8</th>\n",
       "      <td>New Delhi</td>\n",
       "      <td>3.943415</td>\n",
       "      <td>658756.735632</td>\n",
       "    </tr>\n",
       "    <tr>\n",
       "      <th>9</th>\n",
       "      <td>Pune</td>\n",
       "      <td>3.886082</td>\n",
       "      <td>690476.311153</td>\n",
       "    </tr>\n",
       "  </tbody>\n",
       "</table>\n",
       "</div>"
      ],
      "text/plain": [
       "         Location  avg_rating     avg_salary\n",
       "0       Bangalore    3.920232  735344.739593\n",
       "1         Chennai    3.902726  584559.661513\n",
       "2       Hyderabad    3.914484  679099.157376\n",
       "3          Jaipur    3.940741  629135.802469\n",
       "4          Kerala    3.885185  553577.481481\n",
       "5         Kolkata    4.024719  710925.573034\n",
       "6  Madhya Pradesh    3.992258  677641.909677\n",
       "7          Mumbai    3.881709  961180.368491\n",
       "8       New Delhi    3.943415  658756.735632\n",
       "9            Pune    3.886082  690476.311153"
      ]
     },
     "execution_count": 31,
     "metadata": {},
     "output_type": "execute_result"
    }
   ],
   "source": [
    "sps_loc"
   ]
  },
  {
   "cell_type": "code",
   "execution_count": 32,
   "id": "BFwIJDgr2950",
   "metadata": {
    "colab": {
     "base_uri": "https://localhost:8080/",
     "height": 423
    },
    "id": "BFwIJDgr2950",
    "outputId": "c3a955f9-81ef-458b-d8c3-e665b91dd05a",
    "scrolled": true
   },
   "outputs": [
    {
     "data": {
      "text/html": [
       "<div>\n",
       "<style scoped>\n",
       "    .dataframe tbody tr th:only-of-type {\n",
       "        vertical-align: middle;\n",
       "    }\n",
       "\n",
       "    .dataframe tbody tr th {\n",
       "        vertical-align: top;\n",
       "    }\n",
       "\n",
       "    .dataframe thead th {\n",
       "        text-align: right;\n",
       "    }\n",
       "</style>\n",
       "<table border=\"1\" class=\"dataframe\">\n",
       "  <thead>\n",
       "    <tr style=\"text-align: right;\">\n",
       "      <th></th>\n",
       "      <th>HeadQuarter</th>\n",
       "      <th>Brands_funded</th>\n",
       "      <th>Total_invested</th>\n",
       "    </tr>\n",
       "  </thead>\n",
       "  <tbody>\n",
       "    <tr>\n",
       "      <th>0</th>\n",
       "      <td>Ahmadabad</td>\n",
       "      <td>6</td>\n",
       "      <td>4.300000e+06</td>\n",
       "    </tr>\n",
       "    <tr>\n",
       "      <th>1</th>\n",
       "      <td>Ahmedabad</td>\n",
       "      <td>11</td>\n",
       "      <td>1.981550e+08</td>\n",
       "    </tr>\n",
       "    <tr>\n",
       "      <th>2</th>\n",
       "      <td>Ambernath</td>\n",
       "      <td>1</td>\n",
       "      <td>0.000000e+00</td>\n",
       "    </tr>\n",
       "    <tr>\n",
       "      <th>3</th>\n",
       "      <td>Andheri</td>\n",
       "      <td>1</td>\n",
       "      <td>0.000000e+00</td>\n",
       "    </tr>\n",
       "    <tr>\n",
       "      <th>4</th>\n",
       "      <td>Bangalore</td>\n",
       "      <td>425</td>\n",
       "      <td>1.432742e+10</td>\n",
       "    </tr>\n",
       "    <tr>\n",
       "      <th>...</th>\n",
       "      <td>...</td>\n",
       "      <td>...</td>\n",
       "      <td>...</td>\n",
       "    </tr>\n",
       "    <tr>\n",
       "      <th>64</th>\n",
       "      <td>The Nilgiris</td>\n",
       "      <td>1</td>\n",
       "      <td>2.000000e+05</td>\n",
       "    </tr>\n",
       "    <tr>\n",
       "      <th>65</th>\n",
       "      <td>Thiruvananthapuram</td>\n",
       "      <td>1</td>\n",
       "      <td>0.000000e+00</td>\n",
       "    </tr>\n",
       "    <tr>\n",
       "      <th>66</th>\n",
       "      <td>Trivandrum</td>\n",
       "      <td>1</td>\n",
       "      <td>3.000000e+05</td>\n",
       "    </tr>\n",
       "    <tr>\n",
       "      <th>67</th>\n",
       "      <td>Vadodara</td>\n",
       "      <td>1</td>\n",
       "      <td>1.000000e+07</td>\n",
       "    </tr>\n",
       "    <tr>\n",
       "      <th>68</th>\n",
       "      <td>West Bengal</td>\n",
       "      <td>1</td>\n",
       "      <td>1.500000e+06</td>\n",
       "    </tr>\n",
       "  </tbody>\n",
       "</table>\n",
       "<p>69 rows × 3 columns</p>\n",
       "</div>"
      ],
      "text/plain": [
       "           HeadQuarter  Brands_funded  Total_invested\n",
       "0            Ahmadabad              6    4.300000e+06\n",
       "1            Ahmedabad             11    1.981550e+08\n",
       "2            Ambernath              1    0.000000e+00\n",
       "3              Andheri              1    0.000000e+00\n",
       "4            Bangalore            425    1.432742e+10\n",
       "..                 ...            ...             ...\n",
       "64        The Nilgiris              1    2.000000e+05\n",
       "65  Thiruvananthapuram              1    0.000000e+00\n",
       "66          Trivandrum              1    3.000000e+05\n",
       "67            Vadodara              1    1.000000e+07\n",
       "68         West Bengal              1    1.500000e+06\n",
       "\n",
       "[69 rows x 3 columns]"
      ]
     },
     "execution_count": 32,
     "metadata": {},
     "output_type": "execute_result"
    }
   ],
   "source": [
    "fnd_2021 = fnd[fnd['Year']==2021]\n",
    "fnd_loc = fnd_2021.groupby(['HeadQuarter'], as_index=False).agg(Brands_funded=('Company/Brand','count'),Total_invested=('Amount($)','sum'))\n",
    "fnd_loc\n"
   ]
  },
  {
   "cell_type": "code",
   "execution_count": 33,
   "id": "tvS5QPNh5HJ3",
   "metadata": {
    "colab": {
     "base_uri": "https://localhost:8080/",
     "height": 300
    },
    "id": "tvS5QPNh5HJ3",
    "outputId": "449e705d-3d22-48d4-bcc5-f22cced1d688",
    "scrolled": true
   },
   "outputs": [
    {
     "data": {
      "text/html": [
       "<div>\n",
       "<style scoped>\n",
       "    .dataframe tbody tr th:only-of-type {\n",
       "        vertical-align: middle;\n",
       "    }\n",
       "\n",
       "    .dataframe tbody tr th {\n",
       "        vertical-align: top;\n",
       "    }\n",
       "\n",
       "    .dataframe thead th {\n",
       "        text-align: right;\n",
       "    }\n",
       "</style>\n",
       "<table border=\"1\" class=\"dataframe\">\n",
       "  <thead>\n",
       "    <tr style=\"text-align: right;\">\n",
       "      <th></th>\n",
       "      <th>Location</th>\n",
       "      <th>avg_rating</th>\n",
       "      <th>avg_salary</th>\n",
       "      <th>HeadQuarter</th>\n",
       "      <th>Brands_funded</th>\n",
       "      <th>Total_invested</th>\n",
       "    </tr>\n",
       "  </thead>\n",
       "  <tbody>\n",
       "    <tr>\n",
       "      <th>0</th>\n",
       "      <td>Bangalore</td>\n",
       "      <td>3.920232</td>\n",
       "      <td>735344.739593</td>\n",
       "      <td>Bangalore</td>\n",
       "      <td>425</td>\n",
       "      <td>1.432742e+10</td>\n",
       "    </tr>\n",
       "    <tr>\n",
       "      <th>1</th>\n",
       "      <td>Chennai</td>\n",
       "      <td>3.902726</td>\n",
       "      <td>584559.661513</td>\n",
       "      <td>Chennai</td>\n",
       "      <td>40</td>\n",
       "      <td>7.171400e+08</td>\n",
       "    </tr>\n",
       "    <tr>\n",
       "      <th>2</th>\n",
       "      <td>Hyderabad</td>\n",
       "      <td>3.914484</td>\n",
       "      <td>679099.157376</td>\n",
       "      <td>Hyderabad</td>\n",
       "      <td>34</td>\n",
       "      <td>2.439600e+08</td>\n",
       "    </tr>\n",
       "    <tr>\n",
       "      <th>3</th>\n",
       "      <td>Jaipur</td>\n",
       "      <td>3.940741</td>\n",
       "      <td>629135.802469</td>\n",
       "      <td>Jaipur</td>\n",
       "      <td>11</td>\n",
       "      <td>3.433000e+08</td>\n",
       "    </tr>\n",
       "    <tr>\n",
       "      <th>4</th>\n",
       "      <td>Kolkata</td>\n",
       "      <td>4.024719</td>\n",
       "      <td>710925.573034</td>\n",
       "      <td>Kolkata</td>\n",
       "      <td>5</td>\n",
       "      <td>2.800000e+07</td>\n",
       "    </tr>\n",
       "    <tr>\n",
       "      <th>5</th>\n",
       "      <td>Mumbai</td>\n",
       "      <td>3.881709</td>\n",
       "      <td>961180.368491</td>\n",
       "      <td>Mumbai</td>\n",
       "      <td>200</td>\n",
       "      <td>1.538293e+11</td>\n",
       "    </tr>\n",
       "    <tr>\n",
       "      <th>6</th>\n",
       "      <td>New Delhi</td>\n",
       "      <td>3.943415</td>\n",
       "      <td>658756.735632</td>\n",
       "      <td>New Delhi</td>\n",
       "      <td>143</td>\n",
       "      <td>1.673010e+09</td>\n",
       "    </tr>\n",
       "    <tr>\n",
       "      <th>7</th>\n",
       "      <td>Pune</td>\n",
       "      <td>3.886082</td>\n",
       "      <td>690476.311153</td>\n",
       "      <td>Pune</td>\n",
       "      <td>46</td>\n",
       "      <td>5.090700e+08</td>\n",
       "    </tr>\n",
       "  </tbody>\n",
       "</table>\n",
       "</div>"
      ],
      "text/plain": [
       "    Location  avg_rating     avg_salary HeadQuarter  Brands_funded  \\\n",
       "0  Bangalore    3.920232  735344.739593   Bangalore            425   \n",
       "1    Chennai    3.902726  584559.661513     Chennai             40   \n",
       "2  Hyderabad    3.914484  679099.157376   Hyderabad             34   \n",
       "3     Jaipur    3.940741  629135.802469      Jaipur             11   \n",
       "4    Kolkata    4.024719  710925.573034     Kolkata              5   \n",
       "5     Mumbai    3.881709  961180.368491      Mumbai            200   \n",
       "6  New Delhi    3.943415  658756.735632   New Delhi            143   \n",
       "7       Pune    3.886082  690476.311153        Pune             46   \n",
       "\n",
       "   Total_invested  \n",
       "0    1.432742e+10  \n",
       "1    7.171400e+08  \n",
       "2    2.439600e+08  \n",
       "3    3.433000e+08  \n",
       "4    2.800000e+07  \n",
       "5    1.538293e+11  \n",
       "6    1.673010e+09  \n",
       "7    5.090700e+08  "
      ]
     },
     "execution_count": 33,
     "metadata": {},
     "output_type": "execute_result"
    }
   ],
   "source": [
    "sps_fnd_loc = sps_loc.merge(fnd_loc, how='inner', left_on='Location', right_on='HeadQuarter')\n",
    "sps_fnd_loc"
   ]
  },
  {
   "cell_type": "code",
   "execution_count": 34,
   "id": "Gd9GD0i386za",
   "metadata": {
    "id": "Gd9GD0i386za",
    "scrolled": true
   },
   "outputs": [],
   "source": [
    "sps_fnd_loc = sps_fnd_loc.drop('HeadQuarter', axis=1)"
   ]
  },
  {
   "cell_type": "code",
   "execution_count": 35,
   "id": "IzRFNbZK89tN",
   "metadata": {
    "colab": {
     "base_uri": "https://localhost:8080/",
     "height": 300
    },
    "id": "IzRFNbZK89tN",
    "outputId": "7d9d626e-8cfa-406f-dc5d-9c6bc05f8d6a",
    "scrolled": true
   },
   "outputs": [
    {
     "data": {
      "text/html": [
       "<div>\n",
       "<style scoped>\n",
       "    .dataframe tbody tr th:only-of-type {\n",
       "        vertical-align: middle;\n",
       "    }\n",
       "\n",
       "    .dataframe tbody tr th {\n",
       "        vertical-align: top;\n",
       "    }\n",
       "\n",
       "    .dataframe thead th {\n",
       "        text-align: right;\n",
       "    }\n",
       "</style>\n",
       "<table border=\"1\" class=\"dataframe\">\n",
       "  <thead>\n",
       "    <tr style=\"text-align: right;\">\n",
       "      <th></th>\n",
       "      <th>Location</th>\n",
       "      <th>avg_rating</th>\n",
       "      <th>avg_salary</th>\n",
       "      <th>Brands_funded</th>\n",
       "      <th>Total_invested</th>\n",
       "    </tr>\n",
       "  </thead>\n",
       "  <tbody>\n",
       "    <tr>\n",
       "      <th>0</th>\n",
       "      <td>Bangalore</td>\n",
       "      <td>3.920232</td>\n",
       "      <td>735344.739593</td>\n",
       "      <td>425</td>\n",
       "      <td>1.432742e+10</td>\n",
       "    </tr>\n",
       "    <tr>\n",
       "      <th>1</th>\n",
       "      <td>Chennai</td>\n",
       "      <td>3.902726</td>\n",
       "      <td>584559.661513</td>\n",
       "      <td>40</td>\n",
       "      <td>7.171400e+08</td>\n",
       "    </tr>\n",
       "    <tr>\n",
       "      <th>2</th>\n",
       "      <td>Hyderabad</td>\n",
       "      <td>3.914484</td>\n",
       "      <td>679099.157376</td>\n",
       "      <td>34</td>\n",
       "      <td>2.439600e+08</td>\n",
       "    </tr>\n",
       "    <tr>\n",
       "      <th>3</th>\n",
       "      <td>Jaipur</td>\n",
       "      <td>3.940741</td>\n",
       "      <td>629135.802469</td>\n",
       "      <td>11</td>\n",
       "      <td>3.433000e+08</td>\n",
       "    </tr>\n",
       "    <tr>\n",
       "      <th>4</th>\n",
       "      <td>Kolkata</td>\n",
       "      <td>4.024719</td>\n",
       "      <td>710925.573034</td>\n",
       "      <td>5</td>\n",
       "      <td>2.800000e+07</td>\n",
       "    </tr>\n",
       "    <tr>\n",
       "      <th>5</th>\n",
       "      <td>Mumbai</td>\n",
       "      <td>3.881709</td>\n",
       "      <td>961180.368491</td>\n",
       "      <td>200</td>\n",
       "      <td>1.538293e+11</td>\n",
       "    </tr>\n",
       "    <tr>\n",
       "      <th>6</th>\n",
       "      <td>New Delhi</td>\n",
       "      <td>3.943415</td>\n",
       "      <td>658756.735632</td>\n",
       "      <td>143</td>\n",
       "      <td>1.673010e+09</td>\n",
       "    </tr>\n",
       "    <tr>\n",
       "      <th>7</th>\n",
       "      <td>Pune</td>\n",
       "      <td>3.886082</td>\n",
       "      <td>690476.311153</td>\n",
       "      <td>46</td>\n",
       "      <td>5.090700e+08</td>\n",
       "    </tr>\n",
       "  </tbody>\n",
       "</table>\n",
       "</div>"
      ],
      "text/plain": [
       "    Location  avg_rating     avg_salary  Brands_funded  Total_invested\n",
       "0  Bangalore    3.920232  735344.739593            425    1.432742e+10\n",
       "1    Chennai    3.902726  584559.661513             40    7.171400e+08\n",
       "2  Hyderabad    3.914484  679099.157376             34    2.439600e+08\n",
       "3     Jaipur    3.940741  629135.802469             11    3.433000e+08\n",
       "4    Kolkata    4.024719  710925.573034              5    2.800000e+07\n",
       "5     Mumbai    3.881709  961180.368491            200    1.538293e+11\n",
       "6  New Delhi    3.943415  658756.735632            143    1.673010e+09\n",
       "7       Pune    3.886082  690476.311153             46    5.090700e+08"
      ]
     },
     "execution_count": 35,
     "metadata": {},
     "output_type": "execute_result"
    }
   ],
   "source": [
    "sps_fnd_loc"
   ]
  },
  {
   "cell_type": "code",
   "execution_count": 36,
   "id": "QBGgffut9ebX",
   "metadata": {
    "id": "QBGgffut9ebX",
    "scrolled": true
   },
   "outputs": [],
   "source": [
    "sps_fnd_loc['Amount($MM)'] = sps_fnd_loc['Total_invested'] / 1000000"
   ]
  },
  {
   "cell_type": "code",
   "execution_count": 37,
   "id": "pihhufhE96gU",
   "metadata": {
    "id": "pihhufhE96gU",
    "scrolled": true
   },
   "outputs": [],
   "source": [
    "sps_fnd_loc = sps_fnd_loc.drop('Total_invested', axis=1)"
   ]
  },
  {
   "cell_type": "code",
   "execution_count": 38,
   "id": "012fDlWK-NxD",
   "metadata": {
    "colab": {
     "base_uri": "https://localhost:8080/"
    },
    "id": "012fDlWK-NxD",
    "outputId": "6c6ff192-8830-41c7-e46e-93c2c77d2a43",
    "scrolled": true
   },
   "outputs": [
    {
     "data": {
      "text/plain": [
       "Index(['Location', 'avg_rating', 'avg_salary', 'Brands_funded', 'Amount($MM)'], dtype='object')"
      ]
     },
     "execution_count": 38,
     "metadata": {},
     "output_type": "execute_result"
    }
   ],
   "source": [
    "sps_fnd_loc.columns"
   ]
  },
  {
   "cell_type": "code",
   "execution_count": 39,
   "id": "E4hefzu6-TGY",
   "metadata": {
    "id": "E4hefzu6-TGY",
    "scrolled": true
   },
   "outputs": [],
   "source": [
    "sps_fnd_loc.columns = ['City', 'Avg. Rating', 'Avg. Salary', 'Nr. Companies Funded', 'Sum Funding ($MM)']"
   ]
  },
  {
   "cell_type": "code",
   "execution_count": 40,
   "id": "i_9zQRzv-Xi4",
   "metadata": {
    "colab": {
     "base_uri": "https://localhost:8080/",
     "height": 300
    },
    "id": "i_9zQRzv-Xi4",
    "outputId": "6b6de3be-0491-484e-f0ce-8f66ac157328",
    "scrolled": true
   },
   "outputs": [
    {
     "data": {
      "text/html": [
       "<div>\n",
       "<style scoped>\n",
       "    .dataframe tbody tr th:only-of-type {\n",
       "        vertical-align: middle;\n",
       "    }\n",
       "\n",
       "    .dataframe tbody tr th {\n",
       "        vertical-align: top;\n",
       "    }\n",
       "\n",
       "    .dataframe thead th {\n",
       "        text-align: right;\n",
       "    }\n",
       "</style>\n",
       "<table border=\"1\" class=\"dataframe\">\n",
       "  <thead>\n",
       "    <tr style=\"text-align: right;\">\n",
       "      <th></th>\n",
       "      <th>City</th>\n",
       "      <th>Avg. Rating</th>\n",
       "      <th>Avg. Salary</th>\n",
       "      <th>Nr. Companies Funded</th>\n",
       "      <th>Sum Funding ($MM)</th>\n",
       "    </tr>\n",
       "  </thead>\n",
       "  <tbody>\n",
       "    <tr>\n",
       "      <th>0</th>\n",
       "      <td>Bangalore</td>\n",
       "      <td>3.920232</td>\n",
       "      <td>735344.739593</td>\n",
       "      <td>425</td>\n",
       "      <td>14327.42</td>\n",
       "    </tr>\n",
       "    <tr>\n",
       "      <th>1</th>\n",
       "      <td>Chennai</td>\n",
       "      <td>3.902726</td>\n",
       "      <td>584559.661513</td>\n",
       "      <td>40</td>\n",
       "      <td>717.14</td>\n",
       "    </tr>\n",
       "    <tr>\n",
       "      <th>2</th>\n",
       "      <td>Hyderabad</td>\n",
       "      <td>3.914484</td>\n",
       "      <td>679099.157376</td>\n",
       "      <td>34</td>\n",
       "      <td>243.96</td>\n",
       "    </tr>\n",
       "    <tr>\n",
       "      <th>3</th>\n",
       "      <td>Jaipur</td>\n",
       "      <td>3.940741</td>\n",
       "      <td>629135.802469</td>\n",
       "      <td>11</td>\n",
       "      <td>343.30</td>\n",
       "    </tr>\n",
       "    <tr>\n",
       "      <th>4</th>\n",
       "      <td>Kolkata</td>\n",
       "      <td>4.024719</td>\n",
       "      <td>710925.573034</td>\n",
       "      <td>5</td>\n",
       "      <td>28.00</td>\n",
       "    </tr>\n",
       "    <tr>\n",
       "      <th>5</th>\n",
       "      <td>Mumbai</td>\n",
       "      <td>3.881709</td>\n",
       "      <td>961180.368491</td>\n",
       "      <td>200</td>\n",
       "      <td>153829.30</td>\n",
       "    </tr>\n",
       "    <tr>\n",
       "      <th>6</th>\n",
       "      <td>New Delhi</td>\n",
       "      <td>3.943415</td>\n",
       "      <td>658756.735632</td>\n",
       "      <td>143</td>\n",
       "      <td>1673.01</td>\n",
       "    </tr>\n",
       "    <tr>\n",
       "      <th>7</th>\n",
       "      <td>Pune</td>\n",
       "      <td>3.886082</td>\n",
       "      <td>690476.311153</td>\n",
       "      <td>46</td>\n",
       "      <td>509.07</td>\n",
       "    </tr>\n",
       "  </tbody>\n",
       "</table>\n",
       "</div>"
      ],
      "text/plain": [
       "        City  Avg. Rating    Avg. Salary  Nr. Companies Funded  \\\n",
       "0  Bangalore     3.920232  735344.739593                   425   \n",
       "1    Chennai     3.902726  584559.661513                    40   \n",
       "2  Hyderabad     3.914484  679099.157376                    34   \n",
       "3     Jaipur     3.940741  629135.802469                    11   \n",
       "4    Kolkata     4.024719  710925.573034                     5   \n",
       "5     Mumbai     3.881709  961180.368491                   200   \n",
       "6  New Delhi     3.943415  658756.735632                   143   \n",
       "7       Pune     3.886082  690476.311153                    46   \n",
       "\n",
       "   Sum Funding ($MM)  \n",
       "0           14327.42  \n",
       "1             717.14  \n",
       "2             243.96  \n",
       "3             343.30  \n",
       "4              28.00  \n",
       "5          153829.30  \n",
       "6            1673.01  \n",
       "7             509.07  "
      ]
     },
     "execution_count": 40,
     "metadata": {},
     "output_type": "execute_result"
    }
   ],
   "source": [
    "sps_fnd_loc"
   ]
  },
  {
   "cell_type": "markdown",
   "id": "74fd4f55",
   "metadata": {},
   "source": [
    "**Kolkata** has the highest avg rating with 5 companies funded"
   ]
  },
  {
   "cell_type": "code",
   "execution_count": 41,
   "id": "e046b4cb-b783-455c-9a39-7fddc33b1119",
   "metadata": {
    "colab": {
     "base_uri": "https://localhost:8080/",
     "height": 478
    },
    "id": "e046b4cb-b783-455c-9a39-7fddc33b1119",
    "outputId": "e29a986d-a15c-4da2-8ba0-acf67c18da89",
    "scrolled": true
   },
   "outputs": [
    {
     "data": {
      "text/plain": [
       "<Axes: xlabel='Avg. Salary', ylabel='Sum Funding ($MM)'>"
      ]
     },
     "execution_count": 41,
     "metadata": {},
     "output_type": "execute_result"
    },
    {
     "data": {
      "image/png": "[encoded data removed]",
      "text/plain": [
       "<Figure size 640x480 with 1 Axes>"
      ]
     },
     "metadata": {},
     "output_type": "display_data"
    }
   ],
   "source": [
    "sns.set_theme()\n",
    "\n",
    "sns.scatterplot(data=sps_fnd_loc, x=\"Avg. Salary\", y=\"Sum Funding ($MM)\", hue='City')"
   ]
  },
  {
   "cell_type": "markdown",
   "id": "c93J2R5c_FDi",
   "metadata": {
    "id": "c93J2R5c_FDi"
   },
   "source": [
    "**Mumbai** stands out in terms of total funding received by companies and salary paid to their employees."
   ]
  },
  {
   "cell_type": "markdown",
   "id": "40deb346-babe-4dcb-81e2-6fc4d73acb2b",
   "metadata": {
    "id": "40deb346-babe-4dcb-81e2-6fc4d73acb2b"
   },
   "source": [
    "Now, I'll scrape [this census page](https://www.census2011.co.in/city.php) and I'll create a DataFrame called `cities` containing the first table from that page. "
   ]
  },
  {
   "cell_type": "markdown",
   "id": "cNe7sHwRtbHT",
   "metadata": {
    "id": "cNe7sHwRtbHT"
   },
   "source": [
    "6.\n",
    "  1. Aizawl\n",
    "  2. New Delhi is missing\n",
    "  3. Chennai has the highest level of literacy but at the same time the lowest level of salary. It seems to be the only city that does not follow the trend.  Hyderaba has a much lower level of literacy than most of the cities in the graph but despite this has a higher average salary than NewDelhi which is both larger (in terms of population) and more literate.\n"
   ]
  },
  {
   "cell_type": "code",
   "execution_count": 42,
   "id": "8b76fb1a-19bd-450b-9f77-8b0e05fc3009",
   "metadata": {
    "id": "8b76fb1a-19bd-450b-9f77-8b0e05fc3009",
    "scrolled": true
   },
   "outputs": [],
   "source": [
    "import requests\n",
    "from bs4 import BeautifulSoup"
   ]
  },
  {
   "cell_type": "code",
   "execution_count": 43,
   "id": "PClg4ZVLtmBG",
   "metadata": {
    "id": "PClg4ZVLtmBG",
    "scrolled": true
   },
   "outputs": [],
   "source": [
    "url = \"https://www.census2011.co.in/city.php\"\n",
    "page = requests.get(url)\n",
    "\n",
    "soup = BeautifulSoup(page.content, \"html.parser\")"
   ]
  },
  {
   "cell_type": "code",
   "execution_count": 44,
   "id": "WdkhPY_sv-V2",
   "metadata": {
    "id": "WdkhPY_sv-V2",
    "scrolled": true
   },
   "outputs": [],
   "source": [
    "results = soup.find('div', class_='table-responsive')"
   ]
  },
  {
   "cell_type": "code",
   "execution_count": 45,
   "id": "D9P_Rz8uw6SY",
   "metadata": {
    "id": "D9P_Rz8uw6SY",
    "scrolled": true
   },
   "outputs": [],
   "source": [
    "contents = soup.find_all('tr')"
   ]
  },
  {
   "cell_type": "code",
   "execution_count": 46,
   "id": "vIFqS6bJ0lxr",
   "metadata": {
    "colab": {
     "base_uri": "https://localhost:8080/"
    },
    "id": "vIFqS6bJ0lxr",
    "outputId": "4fd23fe4-3aa7-4be5-ae21-256caa33ad1b",
    "scrolled": true
   },
   "outputs": [
    {
     "data": {
      "text/plain": [
       "bs4.element.ResultSet"
      ]
     },
     "execution_count": 46,
     "metadata": {},
     "output_type": "execute_result"
    }
   ],
   "source": [
    "type(contents)"
   ]
  },
  {
   "cell_type": "code",
   "execution_count": 47,
   "id": "SfmF6hmJyfIl",
   "metadata": {
    "colab": {
     "base_uri": "https://localhost:8080/"
    },
    "id": "SfmF6hmJyfIl",
    "outputId": "07bbd82c-bab3-45a6-996f-356cbcb6bddf",
    "scrolled": true
   },
   "outputs": [
    {
     "data": {
      "text/plain": [
       "499"
      ]
     },
     "execution_count": 47,
     "metadata": {},
     "output_type": "execute_result"
    }
   ],
   "source": [
    "len(contents)\n"
   ]
  },
  {
   "cell_type": "code",
   "execution_count": 48,
   "id": "TVhMBuW0zNNr",
   "metadata": {
    "colab": {
     "base_uri": "https://localhost:8080/"
    },
    "id": "TVhMBuW0zNNr",
    "outputId": "3dcd67ea-d0c2-4b9d-c768-5cc72d37d311",
    "scrolled": true
   },
   "outputs": [
    {
     "data": {
      "text/plain": [
       "<tr>\n",
       "<th>#</th>\n",
       "<th class=\"alignleft\">City</th>\n",
       "<th>State</th>\n",
       "<th>Population</th>\n",
       "<th>Metropolitan</th>\n",
       "<th>Sexratio</th>\n",
       "<th>Literacy</th>\n",
       "</tr>"
      ]
     },
     "execution_count": 48,
     "metadata": {},
     "output_type": "execute_result"
    }
   ],
   "source": [
    "contents[0]"
   ]
  },
  {
   "cell_type": "code",
   "execution_count": 49,
   "id": "K0iI6RcU28UK",
   "metadata": {
    "id": "K0iI6RcU28UK",
    "scrolled": true
   },
   "outputs": [],
   "source": [
    "header = contents[0].find_all('th')"
   ]
  },
  {
   "cell_type": "code",
   "execution_count": 50,
   "id": "qF6dZtRH3XUL",
   "metadata": {
    "id": "qF6dZtRH3XUL",
    "scrolled": true
   },
   "outputs": [],
   "source": [
    "#Create cities dict to initialize dataframe\n",
    "cities_dict = dict()\n",
    "\n",
    "header_list = []\n",
    "for i in header:\n",
    "  #initialize dictionary with key found\n",
    "  cities_dict[i.text] = list()\n",
    "  header_list.append(i.text)\n",
    "\n"
   ]
  },
  {
   "cell_type": "code",
   "execution_count": 51,
   "id": "nd0rUn8O0OKP",
   "metadata": {
    "colab": {
     "base_uri": "https://localhost:8080/",
     "height": 363
    },
    "id": "nd0rUn8O0OKP",
    "outputId": "cbe891be-c0c0-4023-bb63-9f4d74b24407",
    "scrolled": true
   },
   "outputs": [
    {
     "data": {
      "text/html": [
       "<div>\n",
       "<style scoped>\n",
       "    .dataframe tbody tr th:only-of-type {\n",
       "        vertical-align: middle;\n",
       "    }\n",
       "\n",
       "    .dataframe tbody tr th {\n",
       "        vertical-align: top;\n",
       "    }\n",
       "\n",
       "    .dataframe thead th {\n",
       "        text-align: right;\n",
       "    }\n",
       "</style>\n",
       "<table border=\"1\" class=\"dataframe\">\n",
       "  <thead>\n",
       "    <tr style=\"text-align: right;\">\n",
       "      <th></th>\n",
       "      <th>#</th>\n",
       "      <th>City</th>\n",
       "      <th>State</th>\n",
       "      <th>Population</th>\n",
       "      <th>Metropolitan</th>\n",
       "      <th>Sexratio</th>\n",
       "      <th>Literacy</th>\n",
       "    </tr>\n",
       "  </thead>\n",
       "  <tbody>\n",
       "    <tr>\n",
       "      <th>0</th>\n",
       "      <td>1</td>\n",
       "      <td>Mumbai</td>\n",
       "      <td>Maharashtra</td>\n",
       "      <td>12,442,373</td>\n",
       "      <td>18,414,288</td>\n",
       "      <td>853</td>\n",
       "      <td>89.73</td>\n",
       "    </tr>\n",
       "    <tr>\n",
       "      <th>1</th>\n",
       "      <td>2</td>\n",
       "      <td>Delhi</td>\n",
       "      <td>Delhi</td>\n",
       "      <td>11,034,555</td>\n",
       "      <td>16,314,838</td>\n",
       "      <td>876</td>\n",
       "      <td>87.59</td>\n",
       "    </tr>\n",
       "    <tr>\n",
       "      <th>2</th>\n",
       "      <td>3</td>\n",
       "      <td>Bangalore</td>\n",
       "      <td>Karnataka</td>\n",
       "      <td>8,443,675</td>\n",
       "      <td>8,499,399</td>\n",
       "      <td>923</td>\n",
       "      <td>88.71</td>\n",
       "    </tr>\n",
       "    <tr>\n",
       "      <th>3</th>\n",
       "      <td>4</td>\n",
       "      <td>Hyderabad</td>\n",
       "      <td>Andhra Pradesh</td>\n",
       "      <td>6,731,790</td>\n",
       "      <td>7,749,334</td>\n",
       "      <td>955</td>\n",
       "      <td>83.26</td>\n",
       "    </tr>\n",
       "    <tr>\n",
       "      <th>4</th>\n",
       "      <td>5</td>\n",
       "      <td>Ahmedabad</td>\n",
       "      <td>Gujarat</td>\n",
       "      <td>5,577,940</td>\n",
       "      <td>6,352,254</td>\n",
       "      <td>898</td>\n",
       "      <td>88.29</td>\n",
       "    </tr>\n",
       "    <tr>\n",
       "      <th>5</th>\n",
       "      <td>6</td>\n",
       "      <td>Chennai</td>\n",
       "      <td>Tamil Nadu</td>\n",
       "      <td>4,646,732</td>\n",
       "      <td>8,696,010</td>\n",
       "      <td>989</td>\n",
       "      <td>90.18</td>\n",
       "    </tr>\n",
       "    <tr>\n",
       "      <th>6</th>\n",
       "      <td>7</td>\n",
       "      <td>Kolkata</td>\n",
       "      <td>West Bengal</td>\n",
       "      <td>4,496,694</td>\n",
       "      <td>14,112,536</td>\n",
       "      <td>908</td>\n",
       "      <td>86.31</td>\n",
       "    </tr>\n",
       "    <tr>\n",
       "      <th>7</th>\n",
       "      <td>8</td>\n",
       "      <td>Surat</td>\n",
       "      <td>Gujarat</td>\n",
       "      <td>4,467,797</td>\n",
       "      <td>4,585,367</td>\n",
       "      <td>756</td>\n",
       "      <td>87.89</td>\n",
       "    </tr>\n",
       "    <tr>\n",
       "      <th>8</th>\n",
       "      <td>9</td>\n",
       "      <td>Pune</td>\n",
       "      <td>Maharashtra</td>\n",
       "      <td>3,124,458</td>\n",
       "      <td>5,049,968</td>\n",
       "      <td>948</td>\n",
       "      <td>89.56</td>\n",
       "    </tr>\n",
       "    <tr>\n",
       "      <th>9</th>\n",
       "      <td>10</td>\n",
       "      <td>Jaipur</td>\n",
       "      <td>Rajasthan</td>\n",
       "      <td>3,046,163</td>\n",
       "      <td>3,046,163</td>\n",
       "      <td>900</td>\n",
       "      <td>83.33</td>\n",
       "    </tr>\n",
       "  </tbody>\n",
       "</table>\n",
       "</div>"
      ],
      "text/plain": [
       "    #       City           State  Population Metropolitan Sexratio Literacy\n",
       "0   1     Mumbai     Maharashtra  12,442,373   18,414,288      853    89.73\n",
       "1   2      Delhi           Delhi  11,034,555   16,314,838      876    87.59\n",
       "2   3  Bangalore       Karnataka   8,443,675    8,499,399      923    88.71\n",
       "3   4  Hyderabad  Andhra Pradesh   6,731,790    7,749,334      955    83.26\n",
       "4   5  Ahmedabad         Gujarat   5,577,940    6,352,254      898    88.29\n",
       "5   6    Chennai      Tamil Nadu   4,646,732    8,696,010      989    90.18\n",
       "6   7    Kolkata     West Bengal   4,496,694   14,112,536      908    86.31\n",
       "7   8      Surat         Gujarat   4,467,797    4,585,367      756    87.89\n",
       "8   9       Pune     Maharashtra   3,124,458    5,049,968      948    89.56\n",
       "9  10     Jaipur       Rajasthan   3,046,163    3,046,163      900    83.33"
      ]
     },
     "execution_count": 51,
     "metadata": {},
     "output_type": "execute_result"
    }
   ],
   "source": [
    "#Compose the dict by appending each <td> found in<tr> to the list of the corresponding key\n",
    "for tr in contents:\n",
    "      td_tags = tr.find_all('td')\n",
    "      if td_tags:\n",
    "        index = 0\n",
    "        while index <= 6:\n",
    "          cities_dict[header_list[index]].append(td_tags[index].text)\n",
    "          index += 1\n",
    "\n",
    "#Create cities DataFrame\n",
    "cities = pd.DataFrame(cities_dict)\n",
    "cities.head(10)\n"
   ]
  },
  {
   "cell_type": "code",
   "execution_count": 52,
   "id": "cAK7nFJ08ili",
   "metadata": {
    "colab": {
     "base_uri": "https://localhost:8080/"
    },
    "id": "cAK7nFJ08ili",
    "outputId": "61dbc575-f04a-4f84-aa12-92129594eeb3",
    "scrolled": true
   },
   "outputs": [
    {
     "data": {
      "text/plain": [
       "(498, 7)"
      ]
     },
     "execution_count": 52,
     "metadata": {},
     "output_type": "execute_result"
    }
   ],
   "source": [
    "cities.shape"
   ]
  },
  {
   "cell_type": "code",
   "execution_count": 53,
   "id": "LP6cdrIL8l5S",
   "metadata": {
    "colab": {
     "base_uri": "https://localhost:8080/"
    },
    "id": "LP6cdrIL8l5S",
    "outputId": "93798a94-e918-417c-d241-6c055da90ce9",
    "scrolled": true
   },
   "outputs": [
    {
     "name": "stdout",
     "output_type": "stream",
     "text": [
      "<class 'pandas.core.frame.DataFrame'>\n",
      "RangeIndex: 498 entries, 0 to 497\n",
      "Data columns (total 7 columns):\n",
      " #   Column        Non-Null Count  Dtype \n",
      "---  ------        --------------  ----- \n",
      " 0   #             498 non-null    object\n",
      " 1   City          498 non-null    object\n",
      " 2   State         498 non-null    object\n",
      " 3   Population    498 non-null    object\n",
      " 4   Metropolitan  498 non-null    object\n",
      " 5   Sexratio      498 non-null    object\n",
      " 6   Literacy      498 non-null    object\n",
      "dtypes: object(7)\n",
      "memory usage: 27.4+ KB\n"
     ]
    }
   ],
   "source": [
    "cities.info()"
   ]
  },
  {
   "cell_type": "code",
   "execution_count": 54,
   "id": "Ei6hfRGz8yjN",
   "metadata": {
    "id": "Ei6hfRGz8yjN",
    "scrolled": true
   },
   "outputs": [],
   "source": [
    "cities['Population']=cities['Population'].str.replace(\",\",\"\")"
   ]
  },
  {
   "cell_type": "code",
   "execution_count": 55,
   "id": "lDW99oin9w2g",
   "metadata": {
    "id": "lDW99oin9w2g",
    "scrolled": true
   },
   "outputs": [],
   "source": [
    "cities['Metropolitan']=cities['Metropolitan'].str.replace(\",\",\"\")"
   ]
  },
  {
   "cell_type": "code",
   "execution_count": 56,
   "id": "OaGEnFHB91VE",
   "metadata": {
    "colab": {
     "base_uri": "https://localhost:8080/",
     "height": 363
    },
    "id": "OaGEnFHB91VE",
    "outputId": "110719f3-8fc7-4185-f3ab-02e034b78310",
    "scrolled": true
   },
   "outputs": [
    {
     "data": {
      "text/html": [
       "<div>\n",
       "<style scoped>\n",
       "    .dataframe tbody tr th:only-of-type {\n",
       "        vertical-align: middle;\n",
       "    }\n",
       "\n",
       "    .dataframe tbody tr th {\n",
       "        vertical-align: top;\n",
       "    }\n",
       "\n",
       "    .dataframe thead th {\n",
       "        text-align: right;\n",
       "    }\n",
       "</style>\n",
       "<table border=\"1\" class=\"dataframe\">\n",
       "  <thead>\n",
       "    <tr style=\"text-align: right;\">\n",
       "      <th></th>\n",
       "      <th>#</th>\n",
       "      <th>City</th>\n",
       "      <th>State</th>\n",
       "      <th>Population</th>\n",
       "      <th>Metropolitan</th>\n",
       "      <th>Sexratio</th>\n",
       "      <th>Literacy</th>\n",
       "    </tr>\n",
       "  </thead>\n",
       "  <tbody>\n",
       "    <tr>\n",
       "      <th>0</th>\n",
       "      <td>1</td>\n",
       "      <td>Mumbai</td>\n",
       "      <td>Maharashtra</td>\n",
       "      <td>12442373</td>\n",
       "      <td>18414288</td>\n",
       "      <td>853</td>\n",
       "      <td>89.73</td>\n",
       "    </tr>\n",
       "    <tr>\n",
       "      <th>1</th>\n",
       "      <td>2</td>\n",
       "      <td>Delhi</td>\n",
       "      <td>Delhi</td>\n",
       "      <td>11034555</td>\n",
       "      <td>16314838</td>\n",
       "      <td>876</td>\n",
       "      <td>87.59</td>\n",
       "    </tr>\n",
       "    <tr>\n",
       "      <th>2</th>\n",
       "      <td>3</td>\n",
       "      <td>Bangalore</td>\n",
       "      <td>Karnataka</td>\n",
       "      <td>8443675</td>\n",
       "      <td>8499399</td>\n",
       "      <td>923</td>\n",
       "      <td>88.71</td>\n",
       "    </tr>\n",
       "    <tr>\n",
       "      <th>3</th>\n",
       "      <td>4</td>\n",
       "      <td>Hyderabad</td>\n",
       "      <td>Andhra Pradesh</td>\n",
       "      <td>6731790</td>\n",
       "      <td>7749334</td>\n",
       "      <td>955</td>\n",
       "      <td>83.26</td>\n",
       "    </tr>\n",
       "    <tr>\n",
       "      <th>4</th>\n",
       "      <td>5</td>\n",
       "      <td>Ahmedabad</td>\n",
       "      <td>Gujarat</td>\n",
       "      <td>5577940</td>\n",
       "      <td>6352254</td>\n",
       "      <td>898</td>\n",
       "      <td>88.29</td>\n",
       "    </tr>\n",
       "    <tr>\n",
       "      <th>5</th>\n",
       "      <td>6</td>\n",
       "      <td>Chennai</td>\n",
       "      <td>Tamil Nadu</td>\n",
       "      <td>4646732</td>\n",
       "      <td>8696010</td>\n",
       "      <td>989</td>\n",
       "      <td>90.18</td>\n",
       "    </tr>\n",
       "    <tr>\n",
       "      <th>6</th>\n",
       "      <td>7</td>\n",
       "      <td>Kolkata</td>\n",
       "      <td>West Bengal</td>\n",
       "      <td>4496694</td>\n",
       "      <td>14112536</td>\n",
       "      <td>908</td>\n",
       "      <td>86.31</td>\n",
       "    </tr>\n",
       "    <tr>\n",
       "      <th>7</th>\n",
       "      <td>8</td>\n",
       "      <td>Surat</td>\n",
       "      <td>Gujarat</td>\n",
       "      <td>4467797</td>\n",
       "      <td>4585367</td>\n",
       "      <td>756</td>\n",
       "      <td>87.89</td>\n",
       "    </tr>\n",
       "    <tr>\n",
       "      <th>8</th>\n",
       "      <td>9</td>\n",
       "      <td>Pune</td>\n",
       "      <td>Maharashtra</td>\n",
       "      <td>3124458</td>\n",
       "      <td>5049968</td>\n",
       "      <td>948</td>\n",
       "      <td>89.56</td>\n",
       "    </tr>\n",
       "    <tr>\n",
       "      <th>9</th>\n",
       "      <td>10</td>\n",
       "      <td>Jaipur</td>\n",
       "      <td>Rajasthan</td>\n",
       "      <td>3046163</td>\n",
       "      <td>3046163</td>\n",
       "      <td>900</td>\n",
       "      <td>83.33</td>\n",
       "    </tr>\n",
       "  </tbody>\n",
       "</table>\n",
       "</div>"
      ],
      "text/plain": [
       "    #       City           State Population Metropolitan Sexratio Literacy\n",
       "0   1     Mumbai     Maharashtra   12442373     18414288      853    89.73\n",
       "1   2      Delhi           Delhi   11034555     16314838      876    87.59\n",
       "2   3  Bangalore       Karnataka    8443675      8499399      923    88.71\n",
       "3   4  Hyderabad  Andhra Pradesh    6731790      7749334      955    83.26\n",
       "4   5  Ahmedabad         Gujarat    5577940      6352254      898    88.29\n",
       "5   6    Chennai      Tamil Nadu    4646732      8696010      989    90.18\n",
       "6   7    Kolkata     West Bengal    4496694     14112536      908    86.31\n",
       "7   8      Surat         Gujarat    4467797      4585367      756    87.89\n",
       "8   9       Pune     Maharashtra    3124458      5049968      948    89.56\n",
       "9  10     Jaipur       Rajasthan    3046163      3046163      900    83.33"
      ]
     },
     "execution_count": 56,
     "metadata": {},
     "output_type": "execute_result"
    }
   ],
   "source": [
    "cities.head(10)"
   ]
  },
  {
   "cell_type": "code",
   "execution_count": 57,
   "id": "MsPtdwve92lK",
   "metadata": {
    "id": "MsPtdwve92lK",
    "scrolled": true
   },
   "outputs": [],
   "source": [
    "cities['Population'] = pd.to_numeric(cities['Population'])"
   ]
  },
  {
   "cell_type": "code",
   "execution_count": 58,
   "id": "PDq5nyCm-IKC",
   "metadata": {
    "id": "PDq5nyCm-IKC",
    "scrolled": true
   },
   "outputs": [],
   "source": [
    "cities['Metropolitan'] = pd.to_numeric(cities['Metropolitan'])"
   ]
  },
  {
   "cell_type": "code",
   "execution_count": 59,
   "id": "kdsmJ2Ef-KOx",
   "metadata": {
    "id": "kdsmJ2Ef-KOx",
    "scrolled": true
   },
   "outputs": [],
   "source": [
    "cities['Literacy'] = pd.to_numeric(cities['Literacy'])"
   ]
  },
  {
   "cell_type": "code",
   "execution_count": 60,
   "id": "WkBItTk1Hav1",
   "metadata": {
    "id": "WkBItTk1Hav1",
    "scrolled": true
   },
   "outputs": [],
   "source": [
    "cities['Sexratio'] = pd.to_numeric(cities['Sexratio'])"
   ]
  },
  {
   "cell_type": "code",
   "execution_count": 61,
   "id": "OTvAJDb5-OAm",
   "metadata": {
    "colab": {
     "base_uri": "https://localhost:8080/"
    },
    "id": "OTvAJDb5-OAm",
    "outputId": "35ef2b98-eee4-42ef-b5d9-951d0c6bfae6",
    "scrolled": true
   },
   "outputs": [
    {
     "name": "stdout",
     "output_type": "stream",
     "text": [
      "<class 'pandas.core.frame.DataFrame'>\n",
      "RangeIndex: 498 entries, 0 to 497\n",
      "Data columns (total 7 columns):\n",
      " #   Column        Non-Null Count  Dtype  \n",
      "---  ------        --------------  -----  \n",
      " 0   #             498 non-null    object \n",
      " 1   City          498 non-null    object \n",
      " 2   State         498 non-null    object \n",
      " 3   Population    498 non-null    int64  \n",
      " 4   Metropolitan  498 non-null    int64  \n",
      " 5   Sexratio      498 non-null    int64  \n",
      " 6   Literacy      498 non-null    float64\n",
      "dtypes: float64(1), int64(3), object(3)\n",
      "memory usage: 27.4+ KB\n"
     ]
    }
   ],
   "source": [
    "cities.info()"
   ]
  },
  {
   "cell_type": "code",
   "execution_count": 62,
   "id": "aJ3YZXbU-PBf",
   "metadata": {
    "colab": {
     "base_uri": "https://localhost:8080/",
     "height": 423
    },
    "id": "aJ3YZXbU-PBf",
    "outputId": "eaca68f8-155f-47dd-9192-31d17217fb76",
    "scrolled": true
   },
   "outputs": [
    {
     "data": {
      "text/html": [
       "<div>\n",
       "<style scoped>\n",
       "    .dataframe tbody tr th:only-of-type {\n",
       "        vertical-align: middle;\n",
       "    }\n",
       "\n",
       "    .dataframe tbody tr th {\n",
       "        vertical-align: top;\n",
       "    }\n",
       "\n",
       "    .dataframe thead th {\n",
       "        text-align: right;\n",
       "    }\n",
       "</style>\n",
       "<table border=\"1\" class=\"dataframe\">\n",
       "  <thead>\n",
       "    <tr style=\"text-align: right;\">\n",
       "      <th></th>\n",
       "      <th>#</th>\n",
       "      <th>City</th>\n",
       "      <th>State</th>\n",
       "      <th>Population</th>\n",
       "      <th>Metropolitan</th>\n",
       "      <th>Sexratio</th>\n",
       "      <th>Literacy</th>\n",
       "    </tr>\n",
       "  </thead>\n",
       "  <tbody>\n",
       "    <tr>\n",
       "      <th>150</th>\n",
       "      <td>151</td>\n",
       "      <td>Aizawl</td>\n",
       "      <td>Mizoram</td>\n",
       "      <td>293416</td>\n",
       "      <td>293416</td>\n",
       "      <td>1025</td>\n",
       "      <td>98.36</td>\n",
       "    </tr>\n",
       "    <tr>\n",
       "      <th>73</th>\n",
       "      <td>74</td>\n",
       "      <td>Kochi</td>\n",
       "      <td>Kerala</td>\n",
       "      <td>602046</td>\n",
       "      <td>2117990</td>\n",
       "      <td>1027</td>\n",
       "      <td>97.36</td>\n",
       "    </tr>\n",
       "    <tr>\n",
       "      <th>137</th>\n",
       "      <td>138</td>\n",
       "      <td>Thrissur</td>\n",
       "      <td>Kerala</td>\n",
       "      <td>315957</td>\n",
       "      <td>1854783</td>\n",
       "      <td>1075</td>\n",
       "      <td>97.06</td>\n",
       "    </tr>\n",
       "    <tr>\n",
       "      <th>102</th>\n",
       "      <td>103</td>\n",
       "      <td>Kozhikode</td>\n",
       "      <td>Kerala</td>\n",
       "      <td>431560</td>\n",
       "      <td>2030519</td>\n",
       "      <td>1093</td>\n",
       "      <td>96.53</td>\n",
       "    </tr>\n",
       "    <tr>\n",
       "      <th>267</th>\n",
       "      <td>268</td>\n",
       "      <td>Alappuzha</td>\n",
       "      <td>Kerala</td>\n",
       "      <td>174176</td>\n",
       "      <td>241072</td>\n",
       "      <td>1077</td>\n",
       "      <td>96.20</td>\n",
       "    </tr>\n",
       "    <tr>\n",
       "      <th>...</th>\n",
       "      <td>...</td>\n",
       "      <td>...</td>\n",
       "      <td>...</td>\n",
       "      <td>...</td>\n",
       "      <td>...</td>\n",
       "      <td>...</td>\n",
       "      <td>...</td>\n",
       "    </tr>\n",
       "    <tr>\n",
       "      <th>439</th>\n",
       "      <td>440</td>\n",
       "      <td>Khurja</td>\n",
       "      <td>Uttar Pradesh</td>\n",
       "      <td>111062</td>\n",
       "      <td>142636</td>\n",
       "      <td>902</td>\n",
       "      <td>65.61</td>\n",
       "    </tr>\n",
       "    <tr>\n",
       "      <th>230</th>\n",
       "      <td>231</td>\n",
       "      <td>Amroha</td>\n",
       "      <td>Uttar Pradesh</td>\n",
       "      <td>198471</td>\n",
       "      <td>198471</td>\n",
       "      <td>925</td>\n",
       "      <td>62.36</td>\n",
       "    </tr>\n",
       "    <tr>\n",
       "      <th>430</th>\n",
       "      <td>431</td>\n",
       "      <td>Bagaha</td>\n",
       "      <td>Bihar</td>\n",
       "      <td>112634</td>\n",
       "      <td>112634</td>\n",
       "      <td>889</td>\n",
       "      <td>59.84</td>\n",
       "    </tr>\n",
       "    <tr>\n",
       "      <th>133</th>\n",
       "      <td>134</td>\n",
       "      <td>Rampur</td>\n",
       "      <td>Uttar Pradesh</td>\n",
       "      <td>325313</td>\n",
       "      <td>349062</td>\n",
       "      <td>917</td>\n",
       "      <td>59.47</td>\n",
       "    </tr>\n",
       "    <tr>\n",
       "      <th>202</th>\n",
       "      <td>203</td>\n",
       "      <td>Sambhal</td>\n",
       "      <td>Uttar Pradesh</td>\n",
       "      <td>220813</td>\n",
       "      <td>220813</td>\n",
       "      <td>907</td>\n",
       "      <td>48.28</td>\n",
       "    </tr>\n",
       "  </tbody>\n",
       "</table>\n",
       "<p>498 rows × 7 columns</p>\n",
       "</div>"
      ],
      "text/plain": [
       "       #       City          State  Population  Metropolitan  Sexratio  \\\n",
       "150  151     Aizawl        Mizoram      293416        293416      1025   \n",
       "73    74      Kochi         Kerala      602046       2117990      1027   \n",
       "137  138   Thrissur         Kerala      315957       1854783      1075   \n",
       "102  103  Kozhikode         Kerala      431560       2030519      1093   \n",
       "267  268  Alappuzha         Kerala      174176        241072      1077   \n",
       "..   ...        ...            ...         ...           ...       ...   \n",
       "439  440     Khurja  Uttar Pradesh      111062        142636       902   \n",
       "230  231     Amroha  Uttar Pradesh      198471        198471       925   \n",
       "430  431     Bagaha          Bihar      112634        112634       889   \n",
       "133  134     Rampur  Uttar Pradesh      325313        349062       917   \n",
       "202  203    Sambhal  Uttar Pradesh      220813        220813       907   \n",
       "\n",
       "     Literacy  \n",
       "150     98.36  \n",
       "73      97.36  \n",
       "137     97.06  \n",
       "102     96.53  \n",
       "267     96.20  \n",
       "..        ...  \n",
       "439     65.61  \n",
       "230     62.36  \n",
       "430     59.84  \n",
       "133     59.47  \n",
       "202     48.28  \n",
       "\n",
       "[498 rows x 7 columns]"
      ]
     },
     "execution_count": 62,
     "metadata": {},
     "output_type": "execute_result"
    }
   ],
   "source": [
    "cities.sort_values('Literacy', ascending = False)"
   ]
  },
  {
   "cell_type": "markdown",
   "id": "a7496807",
   "metadata": {},
   "source": [
    "**Aizawl** has the highest level of literacy"
   ]
  },
  {
   "cell_type": "markdown",
   "id": "1162046a",
   "metadata": {},
   "source": [
    "Now I'll merge the `cities` table with the `sps_fnd_loc` in a new DataFrame called `sps_fnd_loc_lit`."
   ]
  },
  {
   "cell_type": "code",
   "execution_count": 63,
   "id": "pUirYlTBAcQT",
   "metadata": {
    "id": "pUirYlTBAcQT",
    "scrolled": true
   },
   "outputs": [],
   "source": [
    "sps_fnd_loc_lit = sps_fnd_loc.merge(cities, how = \"left\", on='City')"
   ]
  },
  {
   "cell_type": "code",
   "execution_count": 64,
   "id": "roeKLmW6IFwy",
   "metadata": {
    "colab": {
     "base_uri": "https://localhost:8080/",
     "height": 300
    },
    "id": "roeKLmW6IFwy",
    "outputId": "552a7511-78f1-4cac-d48d-0f370648ee1a",
    "scrolled": true
   },
   "outputs": [
    {
     "data": {
      "text/html": [
       "<div>\n",
       "<style scoped>\n",
       "    .dataframe tbody tr th:only-of-type {\n",
       "        vertical-align: middle;\n",
       "    }\n",
       "\n",
       "    .dataframe tbody tr th {\n",
       "        vertical-align: top;\n",
       "    }\n",
       "\n",
       "    .dataframe thead th {\n",
       "        text-align: right;\n",
       "    }\n",
       "</style>\n",
       "<table border=\"1\" class=\"dataframe\">\n",
       "  <thead>\n",
       "    <tr style=\"text-align: right;\">\n",
       "      <th></th>\n",
       "      <th>City</th>\n",
       "      <th>Avg. Rating</th>\n",
       "      <th>Avg. Salary</th>\n",
       "      <th>Nr. Companies Funded</th>\n",
       "      <th>Sum Funding ($MM)</th>\n",
       "      <th>#</th>\n",
       "      <th>State</th>\n",
       "      <th>Population</th>\n",
       "      <th>Metropolitan</th>\n",
       "      <th>Sexratio</th>\n",
       "      <th>Literacy</th>\n",
       "    </tr>\n",
       "  </thead>\n",
       "  <tbody>\n",
       "    <tr>\n",
       "      <th>0</th>\n",
       "      <td>Bangalore</td>\n",
       "      <td>3.920232</td>\n",
       "      <td>735344.739593</td>\n",
       "      <td>425</td>\n",
       "      <td>14327.42</td>\n",
       "      <td>3</td>\n",
       "      <td>Karnataka</td>\n",
       "      <td>8443675.0</td>\n",
       "      <td>8499399.0</td>\n",
       "      <td>923.0</td>\n",
       "      <td>88.71</td>\n",
       "    </tr>\n",
       "    <tr>\n",
       "      <th>1</th>\n",
       "      <td>Chennai</td>\n",
       "      <td>3.902726</td>\n",
       "      <td>584559.661513</td>\n",
       "      <td>40</td>\n",
       "      <td>717.14</td>\n",
       "      <td>6</td>\n",
       "      <td>Tamil Nadu</td>\n",
       "      <td>4646732.0</td>\n",
       "      <td>8696010.0</td>\n",
       "      <td>989.0</td>\n",
       "      <td>90.18</td>\n",
       "    </tr>\n",
       "    <tr>\n",
       "      <th>2</th>\n",
       "      <td>Hyderabad</td>\n",
       "      <td>3.914484</td>\n",
       "      <td>679099.157376</td>\n",
       "      <td>34</td>\n",
       "      <td>243.96</td>\n",
       "      <td>4</td>\n",
       "      <td>Andhra Pradesh</td>\n",
       "      <td>6731790.0</td>\n",
       "      <td>7749334.0</td>\n",
       "      <td>955.0</td>\n",
       "      <td>83.26</td>\n",
       "    </tr>\n",
       "    <tr>\n",
       "      <th>3</th>\n",
       "      <td>Jaipur</td>\n",
       "      <td>3.940741</td>\n",
       "      <td>629135.802469</td>\n",
       "      <td>11</td>\n",
       "      <td>343.30</td>\n",
       "      <td>10</td>\n",
       "      <td>Rajasthan</td>\n",
       "      <td>3046163.0</td>\n",
       "      <td>3046163.0</td>\n",
       "      <td>900.0</td>\n",
       "      <td>83.33</td>\n",
       "    </tr>\n",
       "    <tr>\n",
       "      <th>4</th>\n",
       "      <td>Kolkata</td>\n",
       "      <td>4.024719</td>\n",
       "      <td>710925.573034</td>\n",
       "      <td>5</td>\n",
       "      <td>28.00</td>\n",
       "      <td>7</td>\n",
       "      <td>West Bengal</td>\n",
       "      <td>4496694.0</td>\n",
       "      <td>14112536.0</td>\n",
       "      <td>908.0</td>\n",
       "      <td>86.31</td>\n",
       "    </tr>\n",
       "    <tr>\n",
       "      <th>5</th>\n",
       "      <td>Mumbai</td>\n",
       "      <td>3.881709</td>\n",
       "      <td>961180.368491</td>\n",
       "      <td>200</td>\n",
       "      <td>153829.30</td>\n",
       "      <td>1</td>\n",
       "      <td>Maharashtra</td>\n",
       "      <td>12442373.0</td>\n",
       "      <td>18414288.0</td>\n",
       "      <td>853.0</td>\n",
       "      <td>89.73</td>\n",
       "    </tr>\n",
       "    <tr>\n",
       "      <th>6</th>\n",
       "      <td>New Delhi</td>\n",
       "      <td>3.943415</td>\n",
       "      <td>658756.735632</td>\n",
       "      <td>143</td>\n",
       "      <td>1673.01</td>\n",
       "      <td>NaN</td>\n",
       "      <td>NaN</td>\n",
       "      <td>NaN</td>\n",
       "      <td>NaN</td>\n",
       "      <td>NaN</td>\n",
       "      <td>NaN</td>\n",
       "    </tr>\n",
       "    <tr>\n",
       "      <th>7</th>\n",
       "      <td>Pune</td>\n",
       "      <td>3.886082</td>\n",
       "      <td>690476.311153</td>\n",
       "      <td>46</td>\n",
       "      <td>509.07</td>\n",
       "      <td>9</td>\n",
       "      <td>Maharashtra</td>\n",
       "      <td>3124458.0</td>\n",
       "      <td>5049968.0</td>\n",
       "      <td>948.0</td>\n",
       "      <td>89.56</td>\n",
       "    </tr>\n",
       "  </tbody>\n",
       "</table>\n",
       "</div>"
      ],
      "text/plain": [
       "        City  Avg. Rating    Avg. Salary  Nr. Companies Funded  \\\n",
       "0  Bangalore     3.920232  735344.739593                   425   \n",
       "1    Chennai     3.902726  584559.661513                    40   \n",
       "2  Hyderabad     3.914484  679099.157376                    34   \n",
       "3     Jaipur     3.940741  629135.802469                    11   \n",
       "4    Kolkata     4.024719  710925.573034                     5   \n",
       "5     Mumbai     3.881709  961180.368491                   200   \n",
       "6  New Delhi     3.943415  658756.735632                   143   \n",
       "7       Pune     3.886082  690476.311153                    46   \n",
       "\n",
       "   Sum Funding ($MM)    #           State  Population  Metropolitan  Sexratio  \\\n",
       "0           14327.42    3       Karnataka   8443675.0     8499399.0     923.0   \n",
       "1             717.14    6      Tamil Nadu   4646732.0     8696010.0     989.0   \n",
       "2             243.96    4  Andhra Pradesh   6731790.0     7749334.0     955.0   \n",
       "3             343.30   10       Rajasthan   3046163.0     3046163.0     900.0   \n",
       "4              28.00    7     West Bengal   4496694.0    14112536.0     908.0   \n",
       "5          153829.30    1     Maharashtra  12442373.0    18414288.0     853.0   \n",
       "6            1673.01  NaN             NaN         NaN           NaN       NaN   \n",
       "7             509.07    9     Maharashtra   3124458.0     5049968.0     948.0   \n",
       "\n",
       "   Literacy  \n",
       "0     88.71  \n",
       "1     90.18  \n",
       "2     83.26  \n",
       "3     83.33  \n",
       "4     86.31  \n",
       "5     89.73  \n",
       "6       NaN  \n",
       "7     89.56  "
      ]
     },
     "execution_count": 64,
     "metadata": {},
     "output_type": "execute_result"
    }
   ],
   "source": [
    "sps_fnd_loc_lit"
   ]
  },
  {
   "cell_type": "code",
   "execution_count": 65,
   "id": "0HjYNv3SBgEN",
   "metadata": {
    "id": "0HjYNv3SBgEN",
    "scrolled": true
   },
   "outputs": [],
   "source": [
    "sps_fnd_loc_lit = sps_fnd_loc_lit.drop('#', axis=1)\n",
    "sps_fnd_loc_lit = sps_fnd_loc_lit.drop('State', axis=1)\n"
   ]
  },
  {
   "cell_type": "markdown",
   "id": "51951486",
   "metadata": {},
   "source": [
    "The resulting DataFrame is missing one row compared to the `sps_fnd_loc`  dataset. "
   ]
  },
  {
   "cell_type": "code",
   "execution_count": 66,
   "id": "7iYsnIvyEjO_",
   "metadata": {
    "colab": {
     "base_uri": "https://localhost:8080/",
     "height": 519
    },
    "id": "7iYsnIvyEjO_",
    "outputId": "7f7bd649-bccc-40fe-d113-911650d410cc",
    "scrolled": true
   },
   "outputs": [
    {
     "data": {
      "text/html": [
       "<div>\n",
       "<style scoped>\n",
       "    .dataframe tbody tr th:only-of-type {\n",
       "        vertical-align: middle;\n",
       "    }\n",
       "\n",
       "    .dataframe tbody tr th {\n",
       "        vertical-align: top;\n",
       "    }\n",
       "\n",
       "    .dataframe thead th {\n",
       "        text-align: right;\n",
       "    }\n",
       "</style>\n",
       "<table border=\"1\" class=\"dataframe\">\n",
       "  <thead>\n",
       "    <tr style=\"text-align: right;\">\n",
       "      <th></th>\n",
       "      <th>#</th>\n",
       "      <th>City</th>\n",
       "      <th>State</th>\n",
       "      <th>Population</th>\n",
       "      <th>Metropolitan</th>\n",
       "      <th>Sexratio</th>\n",
       "      <th>Literacy</th>\n",
       "    </tr>\n",
       "  </thead>\n",
       "  <tbody>\n",
       "    <tr>\n",
       "      <th>1</th>\n",
       "      <td>2</td>\n",
       "      <td>Delhi</td>\n",
       "      <td>Delhi</td>\n",
       "      <td>11034555</td>\n",
       "      <td>16314838</td>\n",
       "      <td>876</td>\n",
       "      <td>87.59</td>\n",
       "    </tr>\n",
       "    <tr>\n",
       "      <th>158</th>\n",
       "      <td>159</td>\n",
       "      <td>Kirari Suleman Nagar</td>\n",
       "      <td>Delhi</td>\n",
       "      <td>283211</td>\n",
       "      <td>283211</td>\n",
       "      <td>859</td>\n",
       "      <td>79.94</td>\n",
       "    </tr>\n",
       "    <tr>\n",
       "      <th>174</th>\n",
       "      <td>175</td>\n",
       "      <td>NDMC</td>\n",
       "      <td>Delhi</td>\n",
       "      <td>257803</td>\n",
       "      <td>257803</td>\n",
       "      <td>838</td>\n",
       "      <td>89.83</td>\n",
       "    </tr>\n",
       "    <tr>\n",
       "      <th>196</th>\n",
       "      <td>197</td>\n",
       "      <td>Karawal Nagar</td>\n",
       "      <td>Delhi</td>\n",
       "      <td>224281</td>\n",
       "      <td>224281</td>\n",
       "      <td>870</td>\n",
       "      <td>84.01</td>\n",
       "    </tr>\n",
       "    <tr>\n",
       "      <th>219</th>\n",
       "      <td>220</td>\n",
       "      <td>Nangloi Jat</td>\n",
       "      <td>Delhi</td>\n",
       "      <td>205596</td>\n",
       "      <td>205596</td>\n",
       "      <td>868</td>\n",
       "      <td>82.69</td>\n",
       "    </tr>\n",
       "    <tr>\n",
       "      <th>233</th>\n",
       "      <td>234</td>\n",
       "      <td>Bhalswa Jahangir Pur</td>\n",
       "      <td>Delhi</td>\n",
       "      <td>197148</td>\n",
       "      <td>197148</td>\n",
       "      <td>853</td>\n",
       "      <td>77.66</td>\n",
       "    </tr>\n",
       "    <tr>\n",
       "      <th>254</th>\n",
       "      <td>255</td>\n",
       "      <td>Sultan Pur Majra</td>\n",
       "      <td>Delhi</td>\n",
       "      <td>181554</td>\n",
       "      <td>181554</td>\n",
       "      <td>897</td>\n",
       "      <td>79.33</td>\n",
       "    </tr>\n",
       "    <tr>\n",
       "      <th>263</th>\n",
       "      <td>264</td>\n",
       "      <td>Hastsal</td>\n",
       "      <td>Delhi</td>\n",
       "      <td>176877</td>\n",
       "      <td>176877</td>\n",
       "      <td>865</td>\n",
       "      <td>83.71</td>\n",
       "    </tr>\n",
       "    <tr>\n",
       "      <th>275</th>\n",
       "      <td>276</td>\n",
       "      <td>Deoli</td>\n",
       "      <td>Delhi</td>\n",
       "      <td>169122</td>\n",
       "      <td>169122</td>\n",
       "      <td>860</td>\n",
       "      <td>84.28</td>\n",
       "    </tr>\n",
       "    <tr>\n",
       "      <th>300</th>\n",
       "      <td>301</td>\n",
       "      <td>Dallo Pura</td>\n",
       "      <td>Delhi</td>\n",
       "      <td>154791</td>\n",
       "      <td>154791</td>\n",
       "      <td>905</td>\n",
       "      <td>83.15</td>\n",
       "    </tr>\n",
       "    <tr>\n",
       "      <th>320</th>\n",
       "      <td>321</td>\n",
       "      <td>Burari</td>\n",
       "      <td>Delhi</td>\n",
       "      <td>146190</td>\n",
       "      <td>146190</td>\n",
       "      <td>872</td>\n",
       "      <td>88.98</td>\n",
       "    </tr>\n",
       "    <tr>\n",
       "      <th>366</th>\n",
       "      <td>367</td>\n",
       "      <td>Mustafabad</td>\n",
       "      <td>Delhi</td>\n",
       "      <td>127167</td>\n",
       "      <td>127167</td>\n",
       "      <td>901</td>\n",
       "      <td>75.09</td>\n",
       "    </tr>\n",
       "    <tr>\n",
       "      <th>386</th>\n",
       "      <td>387</td>\n",
       "      <td>Gokal Pur</td>\n",
       "      <td>Delhi</td>\n",
       "      <td>121870</td>\n",
       "      <td>121870</td>\n",
       "      <td>879</td>\n",
       "      <td>84.72</td>\n",
       "    </tr>\n",
       "    <tr>\n",
       "      <th>392</th>\n",
       "      <td>393</td>\n",
       "      <td>Mandoli</td>\n",
       "      <td>Delhi</td>\n",
       "      <td>120417</td>\n",
       "      <td>120417</td>\n",
       "      <td>877</td>\n",
       "      <td>81.67</td>\n",
       "    </tr>\n",
       "    <tr>\n",
       "      <th>443</th>\n",
       "      <td>444</td>\n",
       "      <td>Delhi Cantonment</td>\n",
       "      <td>Delhi</td>\n",
       "      <td>110351</td>\n",
       "      <td>110351</td>\n",
       "      <td>731</td>\n",
       "      <td>89.82</td>\n",
       "    </tr>\n",
       "  </tbody>\n",
       "</table>\n",
       "</div>"
      ],
      "text/plain": [
       "       #                  City  State  Population  Metropolitan  Sexratio  \\\n",
       "1      2                 Delhi  Delhi    11034555      16314838       876   \n",
       "158  159  Kirari Suleman Nagar  Delhi      283211        283211       859   \n",
       "174  175                  NDMC  Delhi      257803        257803       838   \n",
       "196  197         Karawal Nagar  Delhi      224281        224281       870   \n",
       "219  220           Nangloi Jat  Delhi      205596        205596       868   \n",
       "233  234  Bhalswa Jahangir Pur  Delhi      197148        197148       853   \n",
       "254  255      Sultan Pur Majra  Delhi      181554        181554       897   \n",
       "263  264               Hastsal  Delhi      176877        176877       865   \n",
       "275  276                 Deoli  Delhi      169122        169122       860   \n",
       "300  301            Dallo Pura  Delhi      154791        154791       905   \n",
       "320  321                Burari  Delhi      146190        146190       872   \n",
       "366  367            Mustafabad  Delhi      127167        127167       901   \n",
       "386  387             Gokal Pur  Delhi      121870        121870       879   \n",
       "392  393               Mandoli  Delhi      120417        120417       877   \n",
       "443  444      Delhi Cantonment  Delhi      110351        110351       731   \n",
       "\n",
       "     Literacy  \n",
       "1       87.59  \n",
       "158     79.94  \n",
       "174     89.83  \n",
       "196     84.01  \n",
       "219     82.69  \n",
       "233     77.66  \n",
       "254     79.33  \n",
       "263     83.71  \n",
       "275     84.28  \n",
       "300     83.15  \n",
       "320     88.98  \n",
       "366     75.09  \n",
       "386     84.72  \n",
       "392     81.67  \n",
       "443     89.82  "
      ]
     },
     "execution_count": 66,
     "metadata": {},
     "output_type": "execute_result"
    }
   ],
   "source": [
    "cities[cities['State']==\"Delhi\"]"
   ]
  },
  {
   "cell_type": "code",
   "execution_count": 67,
   "id": "vwDYqmpD7GwT",
   "metadata": {
    "colab": {
     "base_uri": "https://localhost:8080/",
     "height": 423
    },
    "id": "vwDYqmpD7GwT",
    "outputId": "8d97988c-57af-42d1-f012-095b398f0ef2",
    "scrolled": true
   },
   "outputs": [
    {
     "data": {
      "text/html": [
       "<div>\n",
       "<style scoped>\n",
       "    .dataframe tbody tr th:only-of-type {\n",
       "        vertical-align: middle;\n",
       "    }\n",
       "\n",
       "    .dataframe tbody tr th {\n",
       "        vertical-align: top;\n",
       "    }\n",
       "\n",
       "    .dataframe thead th {\n",
       "        text-align: right;\n",
       "    }\n",
       "</style>\n",
       "<table border=\"1\" class=\"dataframe\">\n",
       "  <thead>\n",
       "    <tr style=\"text-align: right;\">\n",
       "      <th></th>\n",
       "      <th>#</th>\n",
       "      <th>City</th>\n",
       "      <th>State</th>\n",
       "      <th>Population</th>\n",
       "      <th>Metropolitan</th>\n",
       "      <th>Sexratio</th>\n",
       "      <th>Literacy</th>\n",
       "    </tr>\n",
       "  </thead>\n",
       "  <tbody>\n",
       "    <tr>\n",
       "      <th>0</th>\n",
       "      <td>1</td>\n",
       "      <td>Mumbai</td>\n",
       "      <td>Maharashtra</td>\n",
       "      <td>12442373</td>\n",
       "      <td>18414288</td>\n",
       "      <td>853</td>\n",
       "      <td>89.73</td>\n",
       "    </tr>\n",
       "    <tr>\n",
       "      <th>1</th>\n",
       "      <td>2</td>\n",
       "      <td>New Delhi</td>\n",
       "      <td>Delhi</td>\n",
       "      <td>11034555</td>\n",
       "      <td>16314838</td>\n",
       "      <td>876</td>\n",
       "      <td>87.59</td>\n",
       "    </tr>\n",
       "    <tr>\n",
       "      <th>2</th>\n",
       "      <td>3</td>\n",
       "      <td>Bangalore</td>\n",
       "      <td>Karnataka</td>\n",
       "      <td>8443675</td>\n",
       "      <td>8499399</td>\n",
       "      <td>923</td>\n",
       "      <td>88.71</td>\n",
       "    </tr>\n",
       "    <tr>\n",
       "      <th>3</th>\n",
       "      <td>4</td>\n",
       "      <td>Hyderabad</td>\n",
       "      <td>Andhra Pradesh</td>\n",
       "      <td>6731790</td>\n",
       "      <td>7749334</td>\n",
       "      <td>955</td>\n",
       "      <td>83.26</td>\n",
       "    </tr>\n",
       "    <tr>\n",
       "      <th>4</th>\n",
       "      <td>5</td>\n",
       "      <td>Ahmedabad</td>\n",
       "      <td>Gujarat</td>\n",
       "      <td>5577940</td>\n",
       "      <td>6352254</td>\n",
       "      <td>898</td>\n",
       "      <td>88.29</td>\n",
       "    </tr>\n",
       "    <tr>\n",
       "      <th>...</th>\n",
       "      <td>...</td>\n",
       "      <td>...</td>\n",
       "      <td>...</td>\n",
       "      <td>...</td>\n",
       "      <td>...</td>\n",
       "      <td>...</td>\n",
       "      <td>...</td>\n",
       "    </tr>\n",
       "    <tr>\n",
       "      <th>493</th>\n",
       "      <td>494</td>\n",
       "      <td>Gangtok</td>\n",
       "      <td>Sikkim</td>\n",
       "      <td>100286</td>\n",
       "      <td>100286</td>\n",
       "      <td>912</td>\n",
       "      <td>89.33</td>\n",
       "    </tr>\n",
       "    <tr>\n",
       "      <th>494</th>\n",
       "      <td>495</td>\n",
       "      <td>Datia</td>\n",
       "      <td>Madhya Pradesh</td>\n",
       "      <td>100284</td>\n",
       "      <td>100284</td>\n",
       "      <td>900</td>\n",
       "      <td>80.56</td>\n",
       "    </tr>\n",
       "    <tr>\n",
       "      <th>495</th>\n",
       "      <td>496</td>\n",
       "      <td>Nagda</td>\n",
       "      <td>Madhya Pradesh</td>\n",
       "      <td>100039</td>\n",
       "      <td>100039</td>\n",
       "      <td>947</td>\n",
       "      <td>80.71</td>\n",
       "    </tr>\n",
       "    <tr>\n",
       "      <th>496</th>\n",
       "      <td>497</td>\n",
       "      <td>Banswara</td>\n",
       "      <td>Rajasthan</td>\n",
       "      <td>99969</td>\n",
       "      <td>101177</td>\n",
       "      <td>960</td>\n",
       "      <td>85.72</td>\n",
       "    </tr>\n",
       "    <tr>\n",
       "      <th>497</th>\n",
       "      <td>498</td>\n",
       "      <td>Kapurthala</td>\n",
       "      <td>Punjab</td>\n",
       "      <td>98916</td>\n",
       "      <td>98916</td>\n",
       "      <td>839</td>\n",
       "      <td>85.08</td>\n",
       "    </tr>\n",
       "  </tbody>\n",
       "</table>\n",
       "<p>498 rows × 7 columns</p>\n",
       "</div>"
      ],
      "text/plain": [
       "       #        City           State  Population  Metropolitan  Sexratio  \\\n",
       "0      1      Mumbai     Maharashtra    12442373      18414288       853   \n",
       "1      2   New Delhi           Delhi    11034555      16314838       876   \n",
       "2      3   Bangalore       Karnataka     8443675       8499399       923   \n",
       "3      4   Hyderabad  Andhra Pradesh     6731790       7749334       955   \n",
       "4      5   Ahmedabad         Gujarat     5577940       6352254       898   \n",
       "..   ...         ...             ...         ...           ...       ...   \n",
       "493  494     Gangtok          Sikkim      100286        100286       912   \n",
       "494  495       Datia  Madhya Pradesh      100284        100284       900   \n",
       "495  496       Nagda  Madhya Pradesh      100039        100039       947   \n",
       "496  497    Banswara       Rajasthan       99969        101177       960   \n",
       "497  498  Kapurthala          Punjab       98916         98916       839   \n",
       "\n",
       "     Literacy  \n",
       "0       89.73  \n",
       "1       87.59  \n",
       "2       88.71  \n",
       "3       83.26  \n",
       "4       88.29  \n",
       "..        ...  \n",
       "493     89.33  \n",
       "494     80.56  \n",
       "495     80.71  \n",
       "496     85.72  \n",
       "497     85.08  \n",
       "\n",
       "[498 rows x 7 columns]"
      ]
     },
     "execution_count": 67,
     "metadata": {},
     "output_type": "execute_result"
    }
   ],
   "source": [
    "#replaced the values of 'Delhi' in the cities df with 'New Delhi'.\n",
    "cities_c = cities.copy()\n",
    "mask = cities['City']==\"Delhi\"\n",
    "\n",
    "cities_c.loc[mask,'City'] = \"New Delhi\"\n",
    "cities_c"
   ]
  },
  {
   "cell_type": "code",
   "execution_count": 69,
   "id": "PCNqQHD477iG",
   "metadata": {
    "id": "PCNqQHD477iG",
    "scrolled": true
   },
   "outputs": [],
   "source": [
    "#Re-merge, inner now\n",
    "sps_fnd_loc_lit = sps_fnd_loc.merge(cities_c, how = \"inner\", on='City')"
   ]
  },
  {
   "cell_type": "code",
   "execution_count": 70,
   "id": "-I1pf1Nx7_fQ",
   "metadata": {
    "colab": {
     "base_uri": "https://localhost:8080/",
     "height": 300
    },
    "id": "-I1pf1Nx7_fQ",
    "outputId": "3a25bce8-a283-4569-9a45-aeb0675fdcd0",
    "scrolled": true
   },
   "outputs": [
    {
     "data": {
      "text/html": [
       "<div>\n",
       "<style scoped>\n",
       "    .dataframe tbody tr th:only-of-type {\n",
       "        vertical-align: middle;\n",
       "    }\n",
       "\n",
       "    .dataframe tbody tr th {\n",
       "        vertical-align: top;\n",
       "    }\n",
       "\n",
       "    .dataframe thead th {\n",
       "        text-align: right;\n",
       "    }\n",
       "</style>\n",
       "<table border=\"1\" class=\"dataframe\">\n",
       "  <thead>\n",
       "    <tr style=\"text-align: right;\">\n",
       "      <th></th>\n",
       "      <th>City</th>\n",
       "      <th>Avg. Rating</th>\n",
       "      <th>Avg. Salary</th>\n",
       "      <th>Nr. Companies Funded</th>\n",
       "      <th>Sum Funding ($MM)</th>\n",
       "      <th>#</th>\n",
       "      <th>State</th>\n",
       "      <th>Population</th>\n",
       "      <th>Metropolitan</th>\n",
       "      <th>Sexratio</th>\n",
       "      <th>Literacy</th>\n",
       "    </tr>\n",
       "  </thead>\n",
       "  <tbody>\n",
       "    <tr>\n",
       "      <th>0</th>\n",
       "      <td>Bangalore</td>\n",
       "      <td>3.920232</td>\n",
       "      <td>735344.739593</td>\n",
       "      <td>425</td>\n",
       "      <td>14327.42</td>\n",
       "      <td>3</td>\n",
       "      <td>Karnataka</td>\n",
       "      <td>8443675</td>\n",
       "      <td>8499399</td>\n",
       "      <td>923</td>\n",
       "      <td>88.71</td>\n",
       "    </tr>\n",
       "    <tr>\n",
       "      <th>1</th>\n",
       "      <td>Chennai</td>\n",
       "      <td>3.902726</td>\n",
       "      <td>584559.661513</td>\n",
       "      <td>40</td>\n",
       "      <td>717.14</td>\n",
       "      <td>6</td>\n",
       "      <td>Tamil Nadu</td>\n",
       "      <td>4646732</td>\n",
       "      <td>8696010</td>\n",
       "      <td>989</td>\n",
       "      <td>90.18</td>\n",
       "    </tr>\n",
       "    <tr>\n",
       "      <th>2</th>\n",
       "      <td>Hyderabad</td>\n",
       "      <td>3.914484</td>\n",
       "      <td>679099.157376</td>\n",
       "      <td>34</td>\n",
       "      <td>243.96</td>\n",
       "      <td>4</td>\n",
       "      <td>Andhra Pradesh</td>\n",
       "      <td>6731790</td>\n",
       "      <td>7749334</td>\n",
       "      <td>955</td>\n",
       "      <td>83.26</td>\n",
       "    </tr>\n",
       "    <tr>\n",
       "      <th>3</th>\n",
       "      <td>Jaipur</td>\n",
       "      <td>3.940741</td>\n",
       "      <td>629135.802469</td>\n",
       "      <td>11</td>\n",
       "      <td>343.30</td>\n",
       "      <td>10</td>\n",
       "      <td>Rajasthan</td>\n",
       "      <td>3046163</td>\n",
       "      <td>3046163</td>\n",
       "      <td>900</td>\n",
       "      <td>83.33</td>\n",
       "    </tr>\n",
       "    <tr>\n",
       "      <th>4</th>\n",
       "      <td>Kolkata</td>\n",
       "      <td>4.024719</td>\n",
       "      <td>710925.573034</td>\n",
       "      <td>5</td>\n",
       "      <td>28.00</td>\n",
       "      <td>7</td>\n",
       "      <td>West Bengal</td>\n",
       "      <td>4496694</td>\n",
       "      <td>14112536</td>\n",
       "      <td>908</td>\n",
       "      <td>86.31</td>\n",
       "    </tr>\n",
       "    <tr>\n",
       "      <th>5</th>\n",
       "      <td>Mumbai</td>\n",
       "      <td>3.881709</td>\n",
       "      <td>961180.368491</td>\n",
       "      <td>200</td>\n",
       "      <td>153829.30</td>\n",
       "      <td>1</td>\n",
       "      <td>Maharashtra</td>\n",
       "      <td>12442373</td>\n",
       "      <td>18414288</td>\n",
       "      <td>853</td>\n",
       "      <td>89.73</td>\n",
       "    </tr>\n",
       "    <tr>\n",
       "      <th>6</th>\n",
       "      <td>New Delhi</td>\n",
       "      <td>3.943415</td>\n",
       "      <td>658756.735632</td>\n",
       "      <td>143</td>\n",
       "      <td>1673.01</td>\n",
       "      <td>2</td>\n",
       "      <td>Delhi</td>\n",
       "      <td>11034555</td>\n",
       "      <td>16314838</td>\n",
       "      <td>876</td>\n",
       "      <td>87.59</td>\n",
       "    </tr>\n",
       "    <tr>\n",
       "      <th>7</th>\n",
       "      <td>Pune</td>\n",
       "      <td>3.886082</td>\n",
       "      <td>690476.311153</td>\n",
       "      <td>46</td>\n",
       "      <td>509.07</td>\n",
       "      <td>9</td>\n",
       "      <td>Maharashtra</td>\n",
       "      <td>3124458</td>\n",
       "      <td>5049968</td>\n",
       "      <td>948</td>\n",
       "      <td>89.56</td>\n",
       "    </tr>\n",
       "  </tbody>\n",
       "</table>\n",
       "</div>"
      ],
      "text/plain": [
       "        City  Avg. Rating    Avg. Salary  Nr. Companies Funded  \\\n",
       "0  Bangalore     3.920232  735344.739593                   425   \n",
       "1    Chennai     3.902726  584559.661513                    40   \n",
       "2  Hyderabad     3.914484  679099.157376                    34   \n",
       "3     Jaipur     3.940741  629135.802469                    11   \n",
       "4    Kolkata     4.024719  710925.573034                     5   \n",
       "5     Mumbai     3.881709  961180.368491                   200   \n",
       "6  New Delhi     3.943415  658756.735632                   143   \n",
       "7       Pune     3.886082  690476.311153                    46   \n",
       "\n",
       "   Sum Funding ($MM)   #           State  Population  Metropolitan  Sexratio  \\\n",
       "0           14327.42   3       Karnataka     8443675       8499399       923   \n",
       "1             717.14   6      Tamil Nadu     4646732       8696010       989   \n",
       "2             243.96   4  Andhra Pradesh     6731790       7749334       955   \n",
       "3             343.30  10       Rajasthan     3046163       3046163       900   \n",
       "4              28.00   7     West Bengal     4496694      14112536       908   \n",
       "5          153829.30   1     Maharashtra    12442373      18414288       853   \n",
       "6            1673.01   2           Delhi    11034555      16314838       876   \n",
       "7             509.07   9     Maharashtra     3124458       5049968       948   \n",
       "\n",
       "   Literacy  \n",
       "0     88.71  \n",
       "1     90.18  \n",
       "2     83.26  \n",
       "3     83.33  \n",
       "4     86.31  \n",
       "5     89.73  \n",
       "6     87.59  \n",
       "7     89.56  "
      ]
     },
     "execution_count": 70,
     "metadata": {},
     "output_type": "execute_result"
    }
   ],
   "source": [
    "sps_fnd_loc_lit"
   ]
  },
  {
   "cell_type": "markdown",
   "id": "94f95bf4",
   "metadata": {},
   "source": [
    "Looking at the new `sps_fnd_loc_lit` DataFrame,I'll produce a scatterplot that shows `Literacy` on the x-axis, `Avg. Salary` on the y-axis and the `Population` as the size of the circles."
   ]
  },
  {
   "cell_type": "code",
   "execution_count": 71,
   "id": "GtZ1WJSO8phd",
   "metadata": {
    "colab": {
     "base_uri": "https://localhost:8080/",
     "height": 449
    },
    "id": "GtZ1WJSO8phd",
    "outputId": "b3a16a16-3432-4159-8d88-ad1357d6e526",
    "scrolled": true
   },
   "outputs": [
    {
     "data": {
      "image/png": "[encoded data removed]",
      "text/plain": [
       "<Figure size 640x480 with 1 Axes>"
      ]
     },
     "metadata": {},
     "output_type": "display_data"
    }
   ],
   "source": [
    "scatterplot = sns.scatterplot(data=sps_fnd_loc_lit, x='Literacy', y='Avg. Salary', size='Population', sizes=(50, 500),\n",
    "                              alpha=0.6, color=\"g\")\n",
    "\n",
    "\n"
   ]
  },
  {
   "cell_type": "code",
   "execution_count": 73,
   "id": "G_kCuP2X_OD-",
   "metadata": {
    "colab": {
     "base_uri": "https://localhost:8080/",
     "height": 472
    },
    "id": "G_kCuP2X_OD-",
    "outputId": "7719016a-42bf-4877-bbc8-9ed626de0e44",
    "scrolled": true
   },
   "outputs": [
    {
     "data": {
      "image/png": "[encoded data removed]",
      "text/plain": [
       "<Figure size 640x480 with 1 Axes>"
      ]
     },
     "metadata": {},
     "output_type": "display_data"
    }
   ],
   "source": [
    "scatterplot = sns.scatterplot(data=sps_fnd_loc_lit, x='Literacy', y='Avg. Salary', size='Population', sizes=(50, 500),\n",
    "                              alpha=0.6, color=\"g\")\n",
    "\n",
    "for index, row in sps_fnd_loc_lit.iterrows():\n",
    "    scatterplot.text(row['Literacy'], row['Avg. Salary'], row['City'], fontsize=8, ha='center', va='center')\n",
    "\n",
    "\n",
    "plt.title('Literacy vs Avg. Salary')\n",
    "plt.xlabel('Literacy')\n",
    "plt.ylabel('Avg. Salary')\n",
    "\n",
    "plt.show()"
   ]
  },
  {
   "cell_type": "markdown",
   "id": "88806111",
   "metadata": {},
   "source": [
    "**Chennai** has the highest level of literacy but at the same time the lowest level of salary. It seems to be the only city that does not follow the positive trend between `Literacy` and `Avg. Salary`.  **Hyderaba** has a much lower level of literacy than most of the cities in the graph but despite this has a higher average salary than **NewDelhi** which is both larger (in terms of population) and more literate."
   ]
  }
 ],
 "metadata": {
  "colab": {
   "provenance": []
  },
  "kernelspec": {
   "display_name": "Python 3 (ipykernel)",
   "language": "python",
   "name": "python3"
  },
  "language_info": {
   "codemirror_mode": {
    "name": "ipython",
    "version": 3
   },
   "file_extension": ".py",
   "mimetype": "text/x-python",
   "name": "python",
   "nbconvert_exporter": "python",
   "pygments_lexer": "ipython3",
   "version": "3.10.9"
  }
 },
 "nbformat": 4,
 "nbformat_minor": 5
}
